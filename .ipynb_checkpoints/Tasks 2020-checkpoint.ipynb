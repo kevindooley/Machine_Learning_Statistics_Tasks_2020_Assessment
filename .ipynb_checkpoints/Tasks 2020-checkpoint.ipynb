{
 "cells": [
  {
   "cell_type": "markdown",
   "metadata": {},
   "source": [
    "<h1 align=\"center\">Machine Learning and Statistics Tasks 2020</h1>\n",
    "\n",
    "<h4 align=\"center\">By Kevin Dooley</h4>"
   ]
  },
  {
   "cell_type": "markdown",
   "metadata": {},
   "source": [
    "### Problem Task\n",
    "\n",
    "This task is to Python function called $sqrt2$ that calculates and prints to the screen the square root of 2 to 100 decimal places. Contained in this jupyter notebook is research into the topic, a desciption of the algorithm and all relevant references. "
   ]
  },
  {
   "cell_type": "markdown",
   "metadata": {},
   "source": [
    "### Introduction & Research\n",
    "\n",
    "A number is defined as an irrational number when it cannot be given as the ration of two integers. One of the most famous irrational numbers is the $sqrt2$. It can be proven that the $√2$ is irrational through a proof by contradiction and assuming that the $√2$ is rational. [1]\n",
    "\n",
    "From my research there any many different methods which will compute the square root of a number. I decided to use Newtons method. Newton's Method is a very familiar method and suitable for programmatic calculation [2]\n",
    "\n",
    "Newton's method which is also known as Newton-Raphson method is a root-finding algorithm that produces successively better approximations of the roots of a real-valued function. [3] If you have a function $f(x)=0$ and $x_0$ is close to the root of a number, then newthon's method for a derivation formula should mean the $x_1$ would give a better approximation of that root.\n",
    "\n",
    "To find the square root using Newton's method, you guess a solution $x_0$ of the equation $f(x)=0$. As a result, you will find the linear approximation of $f(x)=0$ at $x_0$ and be able to find $x_1$. "
   ]
  },
  {
   "cell_type": "markdown",
   "metadata": {},
   "source": [
    "### References\n",
    "\n",
    "1. Lectures notes - square root of 2\n",
    "2. https://en.wikipedia.org/wiki/Methods_of_computing_square_roots\n",
    "3. https://surajregmi.medium.com/how-to-calculate-the-square-root-of-a-number-newton-raphson-method-f8007714f64\n",
    "4. https://www.math.ubc.ca/~pwalls/math-python/jupyter/latex/"
   ]
  }
 ],
 "metadata": {
  "kernelspec": {
   "display_name": "Python 3",
   "language": "python",
   "name": "python3"
  },
  "language_info": {
   "codemirror_mode": {
    "name": "ipython",
    "version": 3
   },
   "file_extension": ".py",
   "mimetype": "text/x-python",
   "name": "python",
   "nbconvert_exporter": "python",
   "pygments_lexer": "ipython3",
   "version": "3.8.3"
  }
 },
 "nbformat": 4,
 "nbformat_minor": 4
}
