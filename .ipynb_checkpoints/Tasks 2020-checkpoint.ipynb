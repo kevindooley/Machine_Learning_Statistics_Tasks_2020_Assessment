{
 "cells": [
  {
   "cell_type": "markdown",
   "metadata": {},
   "source": [
    "<h1 align=\"center\">Machine Learning and Statistics Tasks 2020</h1>\n",
    "\n",
    "<h4 align=\"center\">By Kevin Dooley</h4>"
   ]
  },
  {
   "cell_type": "markdown",
   "metadata": {},
   "source": [
    "### Problem Task 1 - $\\sqrt2$\n",
    "\n",
    "This task is to write a Python function called $sqrt2$ that calculates and prints to the screen the square root of 2 to 100 decimal places. Contained in this jupyter notebook is research into the topic, a desciption of the algorithm and all relevant references. "
   ]
  },
  {
   "cell_type": "markdown",
   "metadata": {},
   "source": [
    "### Introduction & Research\n",
    "\n",
    "A number is defined as an irrational number when it cannot be given as the ration of two integers. One of the most famous irrational numbers is the $sqrt2$. It can be proven that the $\\sqrt2$ is irrational through a proof by contradiction and assuming that the $\\sqrt2$ is rational. [1]\n",
    "\n",
    "From my research there any many different methods which will compute the square root of a number. I decided to use Newtons method. Newton's Method is a very familiar method and suitable for programmatic calculation [2]\n",
    "\n",
    "Newton's method which is also known as Newton-Raphson method is a root-finding algorithm that produces successively better approximations of the roots of a real-valued function. [3] If you have a function $f(x)=0$ and $x_0$ is close to the root of a number, then newthon's method for a derivation formula should mean the $x_1$ would give a better approximation of that root.\n",
    "\n",
    "To find the square root using Newton's method, you guess a solution $x_0$ of the equation $f(x)=0$. As a result, you will find the linear approximation of $f(x)=0$ at $x_0$ and be able to find $x$ intercept of the linear approximation. [6]\n",
    "\n",
    "As mentioned above, assuming $x_0$ is close to the solution of $f(x)=0$ you will find the approximation of $f(x)=0$ by the tangent line at $x_0$ and determine the $x$ intercept of the tangent line. You then determine the next approximation of the formula $x_1=x_0-\\frac{f(x_0)}{f'(x_0)}$. This is an iterative process in which you keeping determining the next $x$ intercept. The iterative process using the formula $x_n+1=x_0-\\frac{f(x_0)}{f'(x_0)}$ will give you the approximate root. Depending on how many times the iterative process is completed will determine the accuracy of the approximate result. [7]"
   ]
  },
  {
   "cell_type": "code",
   "execution_count": 2,
   "metadata": {},
   "outputs": [
    {
     "name": "stdout",
     "output_type": "stream",
     "text": [
      "1.4142135623730951454746218587388284504413604736328125000000000000000000000000000000000000000000000000\n"
     ]
    }
   ],
   "source": [
    "#Example of sqrt(2) \n",
    "# https://stackoverflow.com/questions/20811208/newton-s-method-for-finding-square-roots-in-python [8]\n",
    "\n",
    "def sqrt(n): #create a function called sqrt()\n",
    "    approx = n / 2.0 # the approx/first guess is X0\n",
    "    while True: # while condition is true\n",
    "        better = (approx + n / approx) / 2.0 # to get the better/x1 point\n",
    "        if abs(approx - better) < 0.00001: # if the absolute value (gives positive value if negative)of  x0 - x1 is < 0.00001 then return x1 (better). This would then interate through for x1-x2 <0.00001 etc until no longer true\n",
    "            return better\n",
    "        approx = better\n",
    "n=2**(0.5) #  input is square root of 2\n",
    "result = format(n, ',.100f') # formats to 100 decimal places. Need to solve '0' issue\n",
    "print(result)"
   ]
  },
  {
   "cell_type": "markdown",
   "metadata": {},
   "source": [
    "The above code can be verified to be correct using built in python functions $math$ and $sqrt$"
   ]
  },
  {
   "cell_type": "code",
   "execution_count": 3,
   "metadata": {},
   "outputs": [
    {
     "data": {
      "text/plain": [
       "1.4142135623746899"
      ]
     },
     "execution_count": 3,
     "metadata": {},
     "output_type": "execute_result"
    }
   ],
   "source": [
    "import math\n",
    "\n",
    "sqrt(2)"
   ]
  },
  {
   "cell_type": "markdown",
   "metadata": {},
   "source": [
    "The verification step above demonstrates that the code in ln[2] working as intended and finding the square root of 2. As can be seen from the output, the result does output 100 decimal places but the final 47 digits are showing as 0. This is because on most machines today, floats are approximated using a binary fraction with the numerator using the first 53 bits starting with the most significant bit and with the denominator as a power of two. [9] Normally, up to 53 digits precision would be fine, because that is more digits than most people find useful. It would be common where people may not even need more than 1 decimal point thereore Python keeps the number of digits manageable by displaying a rounded value. Python has limitations to completing this task because of the 53 digit precision. We have been asked to determine the square root of 2 to 100 decimal places. \n",
    "\n",
    "A way to address python's floating point precision issue, the input number needs to be increased and then determine an accurate approximate square root result for that number. It then must be divided down accordingly to show the correct answer. "
   ]
  },
  {
   "cell_type": "code",
   "execution_count": 3,
   "metadata": {},
   "outputs": [
    {
     "name": "stdout",
     "output_type": "stream",
     "text": [
      "1.4142135623730950488016887242096980785696718753769480731766797379907324784621070388503875343276415727\n"
     ]
    }
   ],
   "source": [
    "# https://stackoverflow.com/questions/64278117/is-there-a-way-to-create-more-decimal-points-on-python-without-importing-a-libra\n",
    "# need to understand this algorithm fully\n",
    "x = 2 * 10 ** 200\n",
    "\n",
    "r = x\n",
    "\n",
    "def test_diffs(x, r):\n",
    "    d0 = abs(x - r**2)\n",
    "    dm = abs(x - (r-1)**2)\n",
    "    dp = abs(x - (r+1)**2)\n",
    "    minimised = d0 <= dm and d0 <= dp\n",
    "    below_min = dp < dm\n",
    "    return minimised, below_min\n",
    "\n",
    "while True:\n",
    "    oldr = r\n",
    "    r = (r + x // r) // 2\n",
    "\n",
    "    minimised, below_min = test_diffs(x, r)\n",
    "    if minimised:\n",
    "        break\n",
    "\n",
    "    if r == oldr:\n",
    "        if below_min:\n",
    "            r += 1\n",
    "        else:\n",
    "            r -= 1\n",
    "        minimised, _ = test_diffs(x, r)\n",
    "        if minimised:\n",
    "            break\n",
    "\n",
    "print(f'{r // 10**100}.{r % 10**100:0100d}')\n"
   ]
  },
  {
   "cell_type": "markdown",
   "metadata": {},
   "source": [
    "### References\n",
    "\n",
    "1. McLoughlin, I., 2020. The Square Root of 2. The Square Root of 2, [Online]. 1, 1. Available at: https://learnonline.gmit.ie/course/view.php?id=1121 [Accessed 6 October 2020]\n",
    "2. Wikipedia. 2020. Methods of computing square roots. [ONLINE] Available at: https://en.wikipedia.org/wiki/Methods_of_computing_square_roots. [Accessed 17 November 2020].\n",
    "3. Medium. 2020. How to Calculate the Square Root of a Number? — Newton-Raphson Method. [ONLINE] Available at: https://surajregmi.medium.com/how-to-calculate-the-square-root-of-a-number-newton-raphson-method-f8007714f64. [Accessed 17 November 2020].\n",
    "4. Math.ubc.ca. 2020. LaTeX. [ONLINE] Available at: https://www.math.ubc.ca/~pwalls/math-python/jupyter/latex/. [Accessed 17 November 2020].\n",
    "5. Github.com. 2020. markdown-preview-plus. [ONLINE] Available at: https://github.com/atom-community/markdown-preview-plus/issues/19. [Accessed 17 November 2020].\n",
    "6. Math.ubc.ca. 2020. Newton's Method. [ONLINE] Available at: https://www.math.ubc.ca/~pwalls/math-python/roots-optimization/newton/. [Accessed 17 November 2020].\n",
    "7. Math24.net. 2020. Newton's Method. [ONLINE] Available at: https://www.math24.net/newtons-method/. [Accessed 17 November 2020].\n",
    "8. Stackoverflow.com. 2020. Newton’s method for finding square roots in python. [ONLINE] Available at: https://stackoverflow.com/questions/20811208/newton-s-method-for-finding-square-roots-in-python. [Accessed 17 November 2020].\n",
    "9. Python.org. 2020. Floating Point Arithmetic: Issues and Limitations. [ONLINE] Available at: https://docs.python.org/3.4/tutorial/floatingpoint.html#floating-point-arithmetic-issues-and-limitations. [Accessed 17 November 2020]."
   ]
  },
  {
   "cell_type": "markdown",
   "metadata": {},
   "source": [
    "### Problem Task 2 - Chi-squared Test\n",
    "\n",
    "This task is to analyse whether two categorical variables are independent using the Chi-squared  test  for  independence. Using the module package scipy.stats, verify that the Chi-squared value of 24.6 is correct and calculate the associated $p$ value for the example shown on the wikipedia page of the Chi-squared test.\n",
    "![Chi-squared](wiki.png)\n",
    "\n"
   ]
  },
  {
   "cell_type": "markdown",
   "metadata": {},
   "source": [
    "### Introduction & Research\n",
    "\n",
    "A chi-squared test, also written as $\\chi^2$ test, is a statistical hypothesis test that is valid to perform when the test statistic is chi-squared distributed under the null hypothesis. A well know variant of the Chi-squared test is Pearson's chi-squared test which is used to determine if there is a statistically significant difference between the expected frequencies and the observed frequencies in one or more categories of a contingency table.[1] In other words, chi-square test for independence compares two variables in a contingency table to see if they are related and it tests to see whether distributions of categorical variables differ from each another.\n",
    "\n",
    "Categorical variables are non-numerical and a Chi-squared statistic is a way how a relationship between two categorical variables meaning it is appropiate for this task because the variables are neighbourhood and occupation (categorical).[2] \n",
    "\n",
    "There is no defining number that will indicate whether a chi-square test statistic is large enough to indicate a statistically significant difference or not. In general terms, you can compare your Chi-squared value to the critical value from a Chi-squared table. If the Chi-squared value you calculated in higher than the critical value, you can assume the data does not fit the model and you reject the null hypothesis (there is a difference in the data). If the Chi-squared value is less than the critical value, the data did fit the model and you fail t reject the null hypothesis. It is also possible to determine if the difference is significant or not by using the $p$ value of which the Chi-squared test will give you. To determine the $p$ value you require the degrees of freedom (calculate from (row - 1)(column - 1) to determine from a contingency table)[4] and the $\\alpha$ value usually 0.05 (5%).[2][3] If the $p$ value is < 0.05, variables are dependent. if the $p$ value > 0.05, variables are independent.[5]"
   ]
  },
  {
   "cell_type": "markdown",
   "metadata": {},
   "source": [
    "1. https://en.wikipedia.org/wiki/Chi-squared_test\n",
    "2. https://www.statisticshowto.com/probability-and-statistics/chi-square/\n",
    "3. https://mathbench.umd.edu/modules/statistical-tests_chisquare_advanced/page14.htm#:~:text=So%20for%20a%20test%20with,to%20reject%20the%20null%20hypothesis.\n",
    "4. http://onlinestatbook.com/2/chi_square/contingency.html#:~:text=The%20degrees%20of%20freedom%20is,4%2D1)%20%3D%203.&text=Therefore%2C%20the%20sum%20of%20all,of%20subjects%20in%20the%20experiment.\n",
    "5. https://www.mathsisfun.com/data/chi-square-test.html"
   ]
  }
 ],
 "metadata": {
  "kernelspec": {
   "display_name": "Python 3",
   "language": "python",
   "name": "python3"
  },
  "language_info": {
   "codemirror_mode": {
    "name": "ipython",
    "version": 3
   },
   "file_extension": ".py",
   "mimetype": "text/x-python",
   "name": "python",
   "nbconvert_exporter": "python",
   "pygments_lexer": "ipython3",
   "version": "3.8.3"
  }
 },
 "nbformat": 4,
 "nbformat_minor": 4
}
