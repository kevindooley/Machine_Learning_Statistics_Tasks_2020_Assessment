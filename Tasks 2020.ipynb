{
 "cells": [
  {
   "cell_type": "markdown",
   "metadata": {},
   "source": [
    "<h1 align=\"center\">Machine Learning and Statistics Tasks 2020</h1>\n",
    "\n",
    "<h4 align=\"center\">By Kevin Dooley</h4>"
   ]
  },
  {
   "cell_type": "markdown",
   "metadata": {},
   "source": [
    "## Problem Task 1 - Square Root of 2\n",
    "\n",
    "This task is to write a Python function called $sqrt2$ that calculates and prints to the screen the square root of 2 to 100 decimal places. Contained in this jupyter notebook is research into the topic, a desciption of the algorithm and all relevant references. "
   ]
  },
  {
   "cell_type": "markdown",
   "metadata": {},
   "source": [
    "### Introduction & Research\n",
    "\n",
    "A number is defined as an irrational number when it cannot be given as the ration of two integers. One of the most famous irrational numbers is the $\\sqrt2$. It can be proven that the $\\sqrt2$ is irrational through a proof by contradiction and assuming that the $\\sqrt2$ is rational. [1]\n",
    "\n",
    "From my research there any many different methods which will compute the square root of a number. I decided to use Newtons method. Newton's Method is a very familiar method and suitable for programmatic calculation [2]\n",
    "\n",
    "Newton's method which is also known as Newton-Raphson method is a root-finding algorithm that produces successively better approximations of the roots of a real-valued function. [3] If you have a function $f(x)=0$ and $x_0$ is close to the root of a number, then newthon's method for a derivation formula should mean the $x_1$ would give a better approximation of that root.\n",
    "\n",
    "To find the square root using Newton's method, you guess a solution $x_0$ of the equation $f(x)=0$. As a result, you will find the linear approximation of $f(x)=0$ at $x_0$ and be able to find $x$ intercept of the linear approximation. [6]\n",
    "\n",
    "As mentioned above, assuming $x_0$ is close to the solution of $f(x)=0$ you will find the approximation of $f(x)=0$ by the tangent line at $x_0$ and determine the $x$ intercept of the tangent line. You then determine the next approximation of the formula $x_1=x_0-\\frac{f(x_0)}{f'(x_0)}$. This is an iterative process in which you keeping determining the next $x$ intercept. The iterative process using the formula $x_n+1=x_0-\\frac{f(x_0)}{f'(x_0)}$ will give you the approximate root. Depending on how many times the iterative process is completed will determine the accuracy of the approximate result. [7]"
   ]
  },
  {
   "cell_type": "markdown",
   "metadata": {},
   "source": [
    "### Python function of $\\sqrt2$"
   ]
  },
  {
   "cell_type": "code",
   "execution_count": 1,
   "metadata": {},
   "outputs": [
    {
     "name": "stdout",
     "output_type": "stream",
     "text": [
      "1.4142135623730951454746218587388284504413604736328125000000000000000000000000000000000000000000000000\n"
     ]
    }
   ],
   "source": [
    "#Example of sqrt(2) \n",
    "# https://stackoverflow.com/questions/20811208/newton-s-method-for-finding-square-roots-in-python [8]\n",
    "\n",
    "def sqrt(n): #create a function called sqrt()\n",
    "    approx = n / 2.0 # the approx/first guess is X0\n",
    "    while True: # while condition is true\n",
    "        better = (approx + n / approx) / 2.0 # to get the better/x1 point\n",
    "        if abs(approx - better) < 0.00001: # if the absolute value (gives positive value if negative)of  x0 - x1 is < 0.00001 then return x1 (better). This would then interate through for x1-x2 <0.00001 etc until no longer true\n",
    "            return better\n",
    "        approx = better\n",
    "n=2**(0.5) #  input is square root of 2\n",
    "result = format(n, ',.100f') # formats to 100 decimal places. Need to solve '0' issue\n",
    "print(result)"
   ]
  },
  {
   "cell_type": "markdown",
   "metadata": {},
   "source": [
    "The above code can be verified to be correct using built in python functions $math$ and $sqrt$"
   ]
  },
  {
   "cell_type": "code",
   "execution_count": 2,
   "metadata": {},
   "outputs": [
    {
     "data": {
      "text/plain": [
       "1.4142135623746899"
      ]
     },
     "execution_count": 2,
     "metadata": {},
     "output_type": "execute_result"
    }
   ],
   "source": [
    "import math\n",
    "\n",
    "sqrt(2)"
   ]
  },
  {
   "cell_type": "markdown",
   "metadata": {},
   "source": [
    "The verification step above demonstrates that the code in In[1] working as intended and finding the square root of 2. As can be seen from the output, the result does output 100 decimal places but the final 47 digits are showing as 0. This is because on most machines today, floats are approximated using a binary fraction with the numerator using the first 53 bits starting with the most significant bit and with the denominator as a power of two. [9] Normally, up to 53 digits precision would be fine, because that is more digits than most people find useful. It would be common where people may not even need more than 1 decimal point therefore Python keeps the number of digits manageable by displaying a rounded value. Python has limitations to completing this task because of the 53 digit precision. We have been asked to determine the square root of 2 to 100 decimal places. \n",
    "\n",
    "A way to address python's floating point precision issue, the input number needs to be increased and then determine an accurate approximate square root result for that number. It then must be divided down accordingly to show the correct answer. "
   ]
  },
  {
   "cell_type": "code",
   "execution_count": 3,
   "metadata": {},
   "outputs": [
    {
     "name": "stdout",
     "output_type": "stream",
     "text": [
      "1.4142135623730950488016887242096980785696718753769480731766797379907324784621070388503875343276415727\n"
     ]
    }
   ],
   "source": [
    "# https://stackoverflow.com/questions/64278117/is-there-a-way-to-create-more-decimal-points-on-python-without-importing-a-libra\n",
    "# need to make starting number bigger so python can handle it\n",
    "#appropiately divide it back down at the end\n",
    "x = 2 * 10 ** 200\n",
    "\n",
    "r = x\n",
    "\n",
    "def test_diffs(x, r):\n",
    "    d0 = abs(x - r**2)\n",
    "    dm = abs(x - (r-1)**2)\n",
    "    dp = abs(x - (r+1)**2)\n",
    "    minimised = d0 <= dm and d0 <= dp\n",
    "    below_min = dp < dm\n",
    "    return minimised, below_min\n",
    "\n",
    "while True:\n",
    "    oldr = r\n",
    "    r = (r + x // r) // 2\n",
    "\n",
    "    minimised, below_min = test_diffs(x, r)\n",
    "    if minimised:\n",
    "        break\n",
    "\n",
    "    if r == oldr:\n",
    "        if below_min:\n",
    "            r += 1\n",
    "        else:\n",
    "            r -= 1\n",
    "        minimised, _ = test_diffs(x, r)\n",
    "        if minimised:\n",
    "            break\n",
    "\n",
    "print(f'{r // 10**100}.{r % 10**100:0100d}')\n"
   ]
  },
  {
   "cell_type": "markdown",
   "metadata": {},
   "source": [
    "### References\n",
    "\n",
    "1. McLoughlin, I., The Square Root of 2. The Square Root of 2, [Online]. 1, 1. Available at: https://learnonline.gmit.ie/course/view.php?id=1121 [Accessed 6 October 2020]\n",
    "2. Wikipedia. Methods of computing square roots. [ONLINE] Available at: https://en.wikipedia.org/wiki/Methods_of_computing_square_roots. [Accessed 17 November 2020].\n",
    "3. Medium. How to Calculate the Square Root of a Number? — Newton-Raphson Method. [ONLINE] Available at: https://surajregmi.medium.com/how-to-calculate-the-square-root-of-a-number-newton-raphson-method-f8007714f64. [Accessed 17 November 2020].\n",
    "4. Math.ubc.ca. LaTeX. [ONLINE] Available at: https://www.math.ubc.ca/~pwalls/math-python/jupyter/latex/. [Accessed 17 November 2020].\n",
    "5. Github.com. markdown-preview-plus. [ONLINE] Available at: https://github.com/atom-community/markdown-preview-plus/issues/19. [Accessed 17 November 2020].\n",
    "6. Math.ubc.ca. Newton's Method. [ONLINE] Available at: https://www.math.ubc.ca/~pwalls/math-python/roots-optimization/newton/. [Accessed 17 November 2020].\n",
    "7. Math24.net. Newton's Method. [ONLINE] Available at: https://www.math24.net/newtons-method/. [Accessed 17 November 2020].\n",
    "8. Stackoverflow.com. Newton’s method for finding square roots in python. [ONLINE] Available at: https://stackoverflow.com/questions/20811208/newton-s-method-for-finding-square-roots-in-python. [Accessed 17 November 2020].\n",
    "9. Python.org. Floating Point Arithmetic: Issues and Limitations. [ONLINE] Available at: https://docs.python.org/3.4/tutorial/floatingpoint.html#floating-point-arithmetic-issues-and-limitations. [Accessed 17 November 2020]."
   ]
  },
  {
   "cell_type": "markdown",
   "metadata": {},
   "source": [
    "## Problem Task 2 - Chi-squared Test\n",
    "\n",
    "This task is to analyse whether two categorical variables are independent using the Chi-squared  test  for  independence. Using the module package scipy.stats, verify that the Chi-squared value of 24.6 is correct and calculate the associated $p$ value for the example shown on the wikipedia page of the Chi-squared test.\n",
    "![Chi-squared](images/wiki.PNG)\n",

    "\n",
    "The question asks whether two categorical variables are independent of each other. Making that the null hypothesis as it is the statement being asked in a test of statistical significance.\n",
    "\n",
    "$H_0$ - if each person's neighborhood of residence is **independent** of the person's occupational classification.\n",
    "\n",
    "$H_1$ - if each person's neighborhood of residence is **dependent** of the person's occupational classification."
   ]
  },
  {
   "cell_type": "markdown",
   "metadata": {},
   "source": [
    "### Introduction & Research\n",
    "\n",
    "A chi-squared test, also written as $\\chi^2$ test, is a statistical hypothesis test that is valid to perform when the test statistic is chi-squared distributed under the null hypothesis. A well know variant of the Chi-squared test is Pearson's chi-squared test which is used to determine if there is a statistically significant difference between the expected frequencies and the observed frequencies in one or more categories of a contingency table.[1] In other words, chi-square test for independence compares two variables in a contingency table to see if they are related and it tests to see whether distributions of categorical variables differ from each another.\n",
    "\n",
    "Categorical variables are non-numerical and a Chi-squared statistic is a way to show a relationship between two categorical variables meaning it is appropiate for this task because the variables are neighbourhood and occupation (categorical).[2] \n",
    "\n",
    "There is no defining number that will indicate whether a chi-square test statistic is large enough to indicate a statistically significant difference or not. In general terms, you can compare your Chi-squared value to the critical value from a Chi-squared table or using the $p$ value. [2][3]\n",
    "\n",
    "If the Chi-squared value you calculated is higher than the critical value, you can assume the data does not fit the model (null hypothesis) and you reject the null hypothesis. If the Chi-squared value is less than the critical value, the data did fit the model and you fail to reject the null hypothesis. [2][3]\n",
    "\n",
    "It is also possible to determine if the difference is significant or not by using the $p$ value of which the Chi-squared test will give you. To determine the $p$ value you require the degrees of freedom `(calculate from (row - 1)(column - 1)` to determine from a contingency table)[4] and the $\\alpha$ value usually 0.05 (5%).[2][3] \n",
    "In this question,if the $p$ value is < 0.05, you reject the null hypothesis and the variables are determined to be dependent. \n",
    "If the $p$ value > 0.05, you fail to reject the null hypothesis and the variables are determined to be independent.[5]\n",
    "\n",
    "The below is the formula for calculating the chi-square. The python package scipy completes this formula for us effortlessly but basically what is does is:\n",
    "\n",
    "1. Every observed number in table, subtract the corresponding expected number [$O - E$]\n",
    "2. Square the difference [ $(O —E)^2$ ].\n",
    "3. Divide the squares obtained for each cell in the table by the expected number for that cell [ $\\frac{(O - E)^2}{E} $].\n",
    "4. Sum all the values for [ $\\frac{(O - E)^2}{E} $]. This is the chi square statistic. [7]\n",
    "\n",
    "![Chi-squared](images/chi.PNG)\n"
   ]
  },
  {
   "cell_type": "code",
   "execution_count": 4,
   "metadata": {},
   "outputs": [],
   "source": [
    "# chi-squared test\n",
    "# reference https://towardsdatascience.com/running-chi-square-tests-in-python-with-die-roll-data-b9903817c51b\n",
    "\n",
    "import numpy as np\n",
    "\n",
    "A_WC = [90,60,104,95]\n",
    "A_BC = [30,50,51,20]\n",
    "A_NC = [30,40,45,35]\n",
    "\n",
    "\n",
    "contingency_table = np.array([A_WC,A_BC,A_NC]) #create array with inputs stated on wikipedia\n",
    "#contingency_table - show table"
   ]
  },
  {
   "cell_type": "code",
   "execution_count": 5,
   "metadata": {},
   "outputs": [
    {
     "data": {
      "text/plain": [
       "(24.5712028585826,\n",
       " 0.0004098425861096696,\n",
       " 6,\n",
       " array([[ 80.53846154,  80.53846154, 107.38461538,  80.53846154],\n",
       "        [ 34.84615385,  34.84615385,  46.46153846,  34.84615385],\n",
       "        [ 34.61538462,  34.61538462,  46.15384615,  34.61538462]]))"
      ]
     },
     "execution_count": 5,
     "metadata": {},
     "output_type": "execute_result"
    }
   ],
   "source": [
    "# https://docs.scipy.org/doc/scipy/reference/generated/scipy.stats.chi2_contingency.html\n",
    "# import scipy \n",
    "from scipy import stats\n",
    "\n",
    "stats.chi2_contingency(contingency_table) # shows the Chi-squared result, p value and dof & expected result for each number/cell but difficult to read"
   ]
  },
  {
   "cell_type": "code",
   "execution_count": 6,
   "metadata": {},
   "outputs": [
    {
     "name": "stdout",
     "output_type": "stream",
     "text": [
      "===Chi2 Value===\n",
      "24.6\n",
      "\n",
      "\n",
      "===Degrees of Freedom===\n",
      "6\n",
      "\n",
      "\n",
      "===P-Value===\n",
      "0.0004098425861096696\n",
      "\n",
      "\n",
      "===Expected Values Contingency Table===\n",
      "[[ 80.53846154  80.53846154 107.38461538  80.53846154]\n",
      " [ 34.84615385  34.84615385  46.46153846  34.84615385]\n",
      " [ 34.61538462  34.61538462  46.15384615  34.61538462]]\n"
     ]
    }
   ],
   "source": [
    "# python allows this notation for variables\n",
    "# 4 variables\n",
    "# https://towardsdatascience.com/running-chi-square-tests-in-python-with-die-roll-data-b9903817c51b\n",
    "chi2_val, p_val, dof, table = stats.chi2_contingency(contingency_table)\n",
    "\n",
    "print(\"===Chi2 Value===\")\n",
    "format_chi2 = \"{:.1f}\".format(chi2_val) #format to 1 decimal point as per wikipedia\n",
    "print(format_chi2)\n",
    "print(\"\\n\") # blank line between \n",
    "print(\"===Degrees of Freedom===\")\n",
    "print(dof)\n",
    "print(\"\\n\")\n",
    "print(\"===P-Value===\")\n",
    "print(p_val)\n",
    "print(\"\\n\")\n",
    "print(\"===Expected Values Contingency Table===\")\n",
    "print(table)"
   ]
  },
  {
   "cell_type": "code",
   "execution_count": 7,
   "metadata": {},
   "outputs": [
    {
     "name": "stdout",
     "output_type": "stream",
     "text": [
      "Null hypothesis is rejected, variables are dependent\n"
     ]
    }
   ],
   "source": [
    "#check if dependent or independent using p value \n",
    "# if and else statements to compare p_val to 0.05\n",
    "if p_val < 0.05:\n",
    "    print(\"Null hypothesis is rejected, variables are dependent\")\n",
    "else:\n",
    "    if p_val> 0.05:\n",
    "        print(\"Failed to reject null hypothesis, variables are independent\")"
   ]
  },
  {
   "cell_type": "markdown",
   "metadata": {},
   "source": [
    "As mentioned above you can also determine if dependent/independent using the critical value. From my research, I found the critical value to be 12.59 at a degree of freedom of 6. This critical value is less than the Chi-squared value of 24.7 meaning we reject the null hypothesis that the variables are independent of each other. [3]\n"
   ]
  },
  {
   "cell_type": "markdown",
   "metadata": {},
   "source": [
    "### Conclusion\n",
    "\n",
    "The results of the above calculations show that $\\chi2$ = 24.6 which is the same as the result on Wikipedia. Albeit not asked in the question, the degree of freedom is 6 which also matches with Wikipedia\n",
    "The $p$ value was determined to be 0.0004098425861096696.\n",
    "\n",
    "Based on results above, it can be determined that the variables neighbourhood and occupation are in fact dependent of each other and not independent. This can be concluded because the null hypothesis was if each person's neighborhood of residence is independent of the person's occupational classification. Because the chi-square value was higher than the critical value and also the $p$ value was below $a$ = 0.05 we reject the null hypothesis and as a result conclude that $H_1$ is true and that there is a relationship between the two categorical variables neighbourhood and occupation."
   ]
  },
  {
   "cell_type": "markdown",
   "metadata": {},
   "source": [
    "### References\n",
    "\n",
    "1. Wikipedia. Chi-squared test - Wikipedia. [ONLINE] Available at: https://en.wikipedia.org/wiki/Chi-squared_test. [Accessed 18 November 2020].\n",
    "2. Statistics How To. Chi-Square Statistic: How to Calculate It / Distribution - Statistics How To. [ONLINE] Available at: https://www.statisticshowto.com/probability-and-statistics/chi-square/. [Accessed 18 November 2020].\n",
    "3. Chi-square (adv). Chi-square (adv). [ONLINE] Available at: https://mathbench.umd.edu/modules/statistical-tests_chisquare_advanced/page14.htm#:~:text=So%20for%20a%20test%20with,to%20reject%20the%20null%20hypothesis.. [Accessed 18 November 2020].\n",
    "4. Contingency Tables. Contingency Tables. [ONLINE] Available at: http://onlinestatbook.com/2/chi_square/contingency.html#:~:text=The%20degrees%20of%20freedom%20is,4%2D1)%20%3D%203.&text=Therefore%2C%20the%20sum%20of%20all,of%20subjects%20in%20the%20experiment.. [Accessed 18 November 2020].\n",
    "5. Chi-Square Test. Chi-Square Test. [ONLINE] Available at: https://www.mathsisfun.com/data/chi-square-test.html. [Accessed 18 November 2020].\n",
    "6. scipy.stats.chi2_contingency — SciPy v1.5.4 Reference Guide. 2020. scipy.stats.chi2_contingency — SciPy v1.5.4 Reference Guide. [ONLINE] Available at: https://docs.scipy.org/doc/scipy/reference/generated/scipy.stats.chi2_contingency.html. [Accessed 18 November 2020].\n",
    "7. Chi Square Statistics. Chi Square Statistics. [ONLINE] Available at: https://math.hws.edu/javamath/ryan/ChiSquare.html#:~:text=Calculate%20the%20chi%20square%20statistic,E)2%20%2F%20E%20%5D.. [Accessed 18 November 2020]."
   ]
  },
  {
   "cell_type": "markdown",
   "metadata": {},
   "source": [
    "## Problem Task 3 - Standard Deviation \n",
    "\n",
    "The standard deviation of an array of numbers x is calculated using numpy as `np.sqrt(np.sum((x - np.mean(x))**2)/len(x))`\n",
    "Microsoft Excel has two different versions of the standard deviation calculation, STDEV.P and STDEV.S. STDEV.P functions performs the above calculation but in the STDEV.P calculation, the division is by len(x)-1 rather than len(x).\n",
    "Reserach both excel functions explaning the difference between them. Then use numpy to perform a simulation demonstrating that the STDEV.S calculaion is a better estimate for the standard deviation of a population when performed on a sample. "
   ]
  },
  {
   "cell_type": "markdown",
   "metadata": {},
   "source": [
    "### Introduction & Research\n",
    "\n",
    "Standard deviation is a measure of the amount of variation or disersion of a set of values. A low standard deviation indicates that the values in the set tend to be close to the mean whereas a high standard deviation indicates that the values are further away fom the mean and spread out out over a wider range. The standard deviation is calculated as the square root of variance by determining each data point's deviation relative to the mean. [1]\n",
    "\n",
    "The standard deviation is denoted by the Greek symbol $\\sigma$ (sigma) for the population standard deviation and the Latin letter $s$ for the sample standard deviation. The standard deviation has a huge number of applications, it it used particulary in the financial sector where standard deviations of price data are frequently used as a measure of volatility and predict performance trends. [2].\n",
    "\n",
    "STDEV.P and STDEV.S are both excel functions for calculating the standard deviation of a set of values. STDEV.P calculates standard deviation based on the entire population given while STDEV.S estimates the standard deviation based on a sample, but STDEV.S assumes the given arguements are are a sample of a population[3][4]. STDEV.S can be used to partially correct sample bias. These two standard deviations - sample and population standard deviations - are calculated differently. \n",
    "\n",
    "As mentioned above, the standard deviation is a measure of how much variance there is in a set of numbers compared to the average (mean) of the numbers. STDEV.S uses `n − 1` instead of `n` in the formula for the sample variance and sample standard deviation where `n` is the number of observations in a sample. This is called Bessels correction and it corrects the bias in the estimation of the population variance and partially corrects the bias in the estimation of the population standard deviation. The reason the `n-1` only partially corrects bias for the estimation of the standard deviation is because the sample variance is an unbiased estimator of the population variance (remember standard deviation is the measure of variance)but its square root, the sample standard deviation, is a biased estimate of the population standard deviation; because the square root is a concave function. [7]\n",
    "\n",
    "Bessel's correction can provide a better estimation of the standard deviation when working with sample population. \n",
    "STDEV.P does not use Bessel's correction and STDEV.S does include it. Confusion can often arise as to which standard deviation function to use due to the names. STDEV.S (sample standard deviation) could be incorrectly interpreted as meaning the standard deviation of the smaller sample itself and not the estimate of the population standard deviation based on the sample. It is important to know the difference.[6]\n",
    "\n",
    "#### Formulas and Calculation\n",
    "\n",
    "**Population standard deviation:**\n",
    "\n",
    "$$\\sigma=\\sqrt\\frac{\\sum(x_i-\\mu)^2}{N}$$\n",
    "\n",
    "1. Calculate the mean ($\\mu$) of all data points (N) \n",
    "2. Subtract the mean from each datapoint. The differences are called deviations. \n",
    "3. Square the sum of $(x_i-\\mu)$\n",
    "4. Add all the squared deviations together\n",
    "5. Divide the sum of the squared deviations by the number of datapoints (N) to get the variance.\n",
    "6. Get the square root of the variance to get the population standard deviation ($\\sigma$)\n",
    "\n",
    "**Sample standard deviation:**\n",
    "\n",
    "$$\\bar{x}=\\sqrt\\frac{\\sum(x_i-\\bar{x})^2}{n-1}$$\n",
    "\n",
    "1. Calculate the mean ($\\bar{x}$) of all data points (n -1) \n",
    "2. Subtract the mean from each datapoint. The differences are called deviations. \n",
    "3. Square the sum of $(x_i-\\bar{x})$\n",
    "4. Add all the squared deviations together\n",
    "5. Divide the sum of the squared deviations by the number of datapoints (n-1) to get the variance.\n",
    "6. Get the square root of the variance to get the sample standard deviation ($\\sigma$)\n",
    "\n",
    "**Terminology**\n",
    "\n",
    "Population Standard Deviation (STDEV.P): a set of numbers that contains ALL members of a group (everybody in the population)\n",
    "\n",
    "Sample Standard Deviation (STDEV.S): a set that contains some members of a population [5]\n",
    "\n",
    "**When to use each one?**\n",
    "\n",
    "The population standard deviation would be used if: (1) you have the entire population (N) or (2) you have a sample of a larger population, but you are only interested in this sample and do not wish to generalize your findings to the population.\n",
    "You can use the sample standard deviation to estimate a population if you have a sample, but you wish to make a statement about the population standard deviation from which the sample is drawn. [6]\n",
    "\n",
    "**STDEV.P** - when you have data for the entire population or you have a sample of data but you only want the standard deviation for that sample. You do not need to extrapolate the data for the entire population. [8]\n",
    "\n",
    "**STDEV.S** - large sample and you want to approximate standard deviation for the entire population\n",
    "\n",
    "#### STDEV.P vs STDEV.S in Excel\n",
    "\n",
    "###### Image 1 - STDEV.P on Population\n",
    "<img src=\"images/stdevp-pop.PNG\" width=\"500\">\n",
    "\n",
    "###### Image 2 - STDEV.P on Sample\n",
    "<img src=\"images/stdevp-sample.PNG\" width=\"500\">\n",
    "\n",
    "###### Image 3 - STDEV.S on Sample\n",
    "<img src=\"images/stdevs-sample.PNG\" width=\"500\">\n",
    "\n",
    "It is clear from the above images that there is a difference in calculation between STDEV.P & STDEV.S. If you compare image 2 & image 3, both use the same data in their calculation but end up with a different result. As mentioned above, that is because STDEV.S utilises `n-1` and is an estimate of the population as a whole but STDEV.P is showing the exact standard deviation of the sample itself. It is not an estimate of the population. If you use STDEV.P on sample data to estimate a population, your result may be way off of the actual standard deviation depending on the data in the sample. \n",
    "\n",
    "STDEV.P - you calculate statistics for an entire population (mean, variance, etc.). The results are accurate because all data is available, it is not suitable for estimating. \n",
    "When you calculate statistics for a sample, results are estimates and therefore not as accurate. STDEV.S uses Bessel's correction which is an adjustment made to correct for bias that occurs when working with sample data. When working with a sample population, STDEV.S can provide a better estimation of the standard deviation. [8]\n"
   ]
  },
  {
   "cell_type": "code",
   "execution_count": 8,
   "metadata": {},
   "outputs": [],
   "source": [
    "# import libraries\n",
    "import matplotlib\n",
    "import numpy as np\n",
    "import matplotlib.pyplot as plt\n",
    "import seaborn as sns"
   ]
  },
  {
   "cell_type": "markdown",
   "metadata": {},
   "source": [
    "Numpy has a standard built in function to determine the standard deviation. It by default will use the population standard deviation unless modified. By using ddof = 1 you get an unbiased estimator of the variance of the population which will be equivilant to the sample standard deviation. "
   ]
  },
  {
   "cell_type": "code",
   "execution_count": 9,
   "metadata": {},
   "outputs": [
    {
     "name": "stdout",
     "output_type": "stream",
     "text": [
      "Population standard deviation using np.std:  6.681317235396026\n",
      "Population standard deviation using formula: 6.681317235396026\n",
      "\n",
      "\n",
      "Sample standard deviation using formula:     6.606057825965498\n"
     ]
    }
   ],
   "source": [
    "#manually generated data of no specific distibution\n",
    "# shows difference between calculations\n",
    "x = [1, 6, 7, 4, 8, 3, 19, 23, 5, 8, 16, 18, 20, 10, 11]\n",
    "\n",
    "# stdev.p on the population x using formula\n",
    "stdev_p = np.sqrt(np.sum(abs(x - np.mean(x))**2)/len(x))\n",
    "#built in std deviation function (default ddof =0) of a population x\n",
    "a = np.std(x)\n",
    "\n",
    "\n",
    "#stdev.s on the population x\n",
    "stdev_s = np.sqrt(np.sum(abs(x - np.mean(x))**2)/len(x)-1)\n",
    "\n",
    "\n",
    "print('Population standard deviation using np.std: ', a)\n",
    "print('Population standard deviation using formula:',stdev_p)\n",
    "print('\\n')\n",
    "print('Sample standard deviation using formula:    ',stdev_s)"
   ]
  },
  {
   "cell_type": "code",
   "execution_count": 10,
   "metadata": {},
   "outputs": [],
   "source": [
    "#generate random data for simulation\n",
    "# adapted from https://numpy.org/doc/stable/reference/random/generated/numpy.random.normal.html#numpy.random.normal\n",
    "\n",
    "mean, std = 100, 5 # mean and standard deviation\n",
    "population = np.random.normal(mean, std, 1000) # generate population with normal distribution around mean at 100, std of 2. 1000 datapoints\n",
    "# print(population) to show the data in an array"
   ]
  },
  {
   "cell_type": "code",
   "execution_count": 11,
   "metadata": {},
   "outputs": [
    {
     "data": {
      "image/png": "[encoded data removed]",
      "text/plain": [
       "<Figure size 720x576 with 1 Axes>"
      ]
     },
     "metadata": {
      "needs_background": "light"
     },
     "output_type": "display_data"
    }
   ],
   "source": [
    "# Create plot with above data\n",
    "# https://seaborn.pydata.org/generated/seaborn.distplot.html\n",
    "\n",
    "# adjust the size of the plot\n",
    "plt.figure(figsize=(10,8))\n",
    "\n",
    "# create plot\n",
    "sns.distplot(population, color='y', bins=30)\n",
    "\n",
    "# set labels and title\n",
    "# show the plot\n",
    "plt.xlabel('Population', fontsize=15)\n",
    "plt.ylabel('Frequency', fontsize=15)\n",
    "plt.title('Population - Normal Distribution', fontsize = 15)\n",
    "plt.axvline(x=95, color='r', linestyle='--') #line to show -5 std\n",
    "plt.axvline(x=105, color='r', linestyle='--') #line to show +5 std\n",
    "plt.show()\n",
    "\n",
    "\n"
   ]
  },
  {
   "cell_type": "code",
   "execution_count": 12,
   "metadata": {},
   "outputs": [
    {
     "name": "stdout",
     "output_type": "stream",
     "text": [
      "Population standard deviation (STDEV.P) = 5.000811\n"
     ]
    }
   ],
   "source": [
    "# use STDEV.P go get actual standard deviation of full population\n",
    "\n",
    "population_std = np.std(population)\n",
    "print(f'Population standard deviation (STDEV.P) = {population_std:.6f}')\n",
    "#print(population_std)"
   ]
  },
  {
   "cell_type": "code",
   "execution_count": 13,
   "metadata": {
    "scrolled": true
   },
   "outputs": [
    {
     "name": "stdout",
     "output_type": "stream",
     "text": [
      "Sample standard deviation (STDEV.S) with 50 samples estimates population standard deviation to be = 5.597330\n",
      "Sample standard deviation (STDEV.S) with 100 samples estimates population standard deviation to be = 4.825158\n",
      "Sample standard deviation (STDEV.S) with 150 samples estimates population standard deviation to be = 5.404675\n",
      "Sample standard deviation (STDEV.S) with 250 samples estimates population standard deviation to be = 4.862191\n",
      "Sample standard deviation (STDEV.S) with 500 samples estimates population standard deviation to be = 5.080224\n",
      "Population standard deviation (STDEV.P) with 50 samples estimates population standard deviation to be = 5.541074\n",
      "Sample standard deviation (STDEV.S) with average of all samples estimates population standard deviation to be = 5.153916\n"
     ]
    }
   ],
   "source": [
    "# use STDEV.S to estimate standard deviation of the population\n",
    "\n",
    "# Create a sample data by using np.random.choice() function \n",
    "sample1 = 50\n",
    "sample2 = 100\n",
    "sample3 = 150\n",
    "sample4 = 250\n",
    "sample5 = 500\n",
    "\n",
    "#print(sample1_std) - shows 50 random samples from population\n",
    "#print(sample2_std) - shows 100 random samples from population\n",
    "#print(sample3_std) - shows 150 random samples from population\n",
    "#print(sample4_std) - shows 250 random samples from population\n",
    "#print(sample5_std) - shows 500 random samples from population\n",
    "\n",
    "sample1_std= np.random.choice(population, sample1)\n",
    "sample2_std= np.random.choice(population, sample2)\n",
    "sample3_std= np.random.choice(population, sample3)\n",
    "sample4_std= np.random.choice(population, sample4)\n",
    "sample5_std= np.random.choice(population, sample5)\n",
    "\n",
    "\n",
    "# calculate sample standard deviation by calling created previously variables\n",
    "stdev_s1 = np.std(sample1_std, ddof=1)\n",
    "stdev_s2 = np.std(sample2_std, ddof=1)\n",
    "stdev_s3 = np.std(sample3_std, ddof=1)\n",
    "stdev_s4 = np.std(sample4_std, ddof=1)\n",
    "stdev_s5 = np.std(sample5_std, ddof=1)\n",
    "population_std_s1 = np.std(sample1_std, ddof=0)\n",
    "avg_std = (stdev_s1+stdev_s2+stdev_s3+stdev_s4+stdev_s5)/5\n",
    "\n",
    "\n",
    "\n",
    "#print standard deviation for each sample\n",
    "print(f'Sample standard deviation (STDEV.S) with 50 samples estimates population standard deviation to be = {stdev_s1:.6f}')\n",
    "print(f'Sample standard deviation (STDEV.S) with 100 samples estimates population standard deviation to be = {stdev_s2:.6f}')\n",
    "print(f'Sample standard deviation (STDEV.S) with 150 samples estimates population standard deviation to be = {stdev_s3:.6f}')\n",
    "print(f'Sample standard deviation (STDEV.S) with 250 samples estimates population standard deviation to be = {stdev_s4:.6f}')\n",
    "print(f'Sample standard deviation (STDEV.S) with 500 samples estimates population standard deviation to be = {stdev_s5:.6f}')\n",
    "print(f'Population standard deviation (STDEV.P) with 50 samples estimates population standard deviation to be = {population_std_s1:.6f}')\n",
    "print(f'Sample standard deviation (STDEV.S) with average of all samples estimates population standard deviation to be = {avg_std:.6f}')"
   ]
  },
  {
   "cell_type": "markdown",
   "metadata": {},
   "source": [
    "##### Why STDEV.S is better for estimating a population\n",
    "\n",
    "As can be seen from the cell above, there is variance in every answer. As the samle size increases, you should see an estimate closer to the actual population mean. That is because you obviosuly you have more datapoints from the population to aide in the estimate. The average of the 5 STDEV.S emtimates is also an interesting calculation because the more estimates that are completed of the population using STDEV.S, you will again have more real data. If you did hundreds or thousands of estimates of the population and looked at the average of them all, you would begin to see why `n-1` is used in sample deviation. If seen on a plot, you would notice that after each average, the estimate would become more accurate.\n",
    "\n",
    "STDEV.S is better for estimating a population. Depending on your sample data and sample size, if you use STDEV.P to estimate a population, your result could be way off from the actual population standard deviation. As per the above code, using STDEV.P to estimate the population is giving one of the worst estimates. All it is doing is giving the actual standard deviation for those 50 random points from the whole population. "
   ]
  },
  {
   "cell_type": "markdown",
   "metadata": {},
   "source": [
    "##### Conclusion\n",
    "\n",
    "STDEV.P and STDEV.S are both functions in excel that perform standard deviation. STDEV.P is used for getting the standard deviation of a population while STDEV.S is used for estimating the standard deviation of a population. \n",
    "\n",
    "NumPy has the capability to work like the Excel functions STDEV.P and STDEV.S. it has a built in function called `numpy.std` which operates the same as STDEV.P. The function allows you to pass an arguement `ddof=1` which changes the standard deviation caluclation to the same as STDEV.S\n",
    "\n",
    "Using STDEV.S is a better option than STDEV.P for estimating a population but it will always be an estimate. STDEV.P results in a biased answer for estimating and STDEV.S will reduce that error. How much the error is reduced by depends on factors such as:  increasing the sample taken from the population or completing multiple sample standard deviations and averaging the results.\n",
    "\n",
    "STDEV.P is the more accurate calculation as it gives you the exact result but in real world situations it is not always feasible (and in alot of cases not possible) to use the full population to calculate and that is why STDEV.S (unbiased) is the more appropiate function for estimating a population. \n",
    "\n"
   ]
  },
  {
   "cell_type": "markdown",
   "metadata": {},
   "source": [
    "### References \n",
    "\n",
    "1. Wikipedia. Standard deviation - Wikipedia. [ONLINE] Available at: https://en.wikipedia.org/wiki/Standard_deviation. [Accessed 26 November 2020].\n",
    "2. Investopedia. Standard Deviation Definition. [ONLINE] Available at: https://www.investopedia.com/terms/s/standarddeviation.asp. [Accessed 26 November 2020].\n",
    "3. STDEV.S function - Office Support. 2020. STDEV.S function - Office Support. [ONLINE] Available at: https://support.microsoft.com/en-us/office/stdev-s-function-7d69cf97-0c1f-4acf-be27-f3e83904cc23. [Accessed 26 November 2020].\n",
    "4. STDEV.P function - Office Support. 2020. STDEV.P function - Office Support. [ONLINE] Available at: https://support.microsoft.com/en-us/office/stdev-p-function-6e917c05-31a0-496f-ade7-4f4e7462f285. [Accessed 26 November 2020].\n",
    "5. Eden Au. Why Sample Variance is Divided by n-1 | by Eden Au | Towards Data Science. [ONLINE] Available at: https://towardsdatascience.com/why-sample-variance-is-divided-by-n-1-89821b83ef6d. [Accessed 26 November 2020].\n",
    "6. Standard Deviation | How and when to use the Sample and Population Standard Deviation - A measure of spread | Laerd Statistics. Standard Deviation | How and when to use the Sample and Population Standard Deviation - A measure of spread | Laerd Statistics. [ONLINE] Available at: https://statistics.laerd.com/statistical-guides/measures-of-spread-standard-deviation.php. [Accessed 26 November 2020].\n",
    "7. Wikipedia. Bessel's correction - Wikipedia. [ONLINE] Available at: https://en.wikipedia.org/wiki/Bessel%27s_correction#:~:text=Firstly%2C%20while%20the%20sample%20variance,is%20downward%2C%20by%20Jensen's%20inequality.. [Accessed 26 November 2020].\n",
    "8. Excel formula: Standard deviation calculation | Exceljet. 2020. Excel formula: Standard deviation calculation | Exceljet. [ONLINE] Available at: https://exceljet.net/formula/standard-deviation-calculation. [Accessed 26 November 2020].\n",
    "9. https://www.khanacademy.org/math/statistics-probability/summarizing-quantitative-data/variance-standard-deviation-sample/a/population-and-sample-standard-deviation-review#:~:text=Standard%20deviation%20measures%20the%20spread%20of%20a%20data%20distribution.&text=If%20the%20data%20is%20being,n%2D1%20n%E2%88%921%20.\n",
    "10. numpy.std — NumPy v1.19 Manual. 2020. numpy.std — NumPy v1.19 Manual. [ONLINE] Available at: https://numpy.org/doc/stable/reference/generated/numpy.std.html#:~:text=The%20standard%20deviation%20is%20the,N%20%3D%20len(x)%20.. [Accessed 26 November 2020].\n",
    "11. GitHub. programming_DA_project_2019/numpy_tutorial.ipynb at master · kevindooley/programming_DA_project_2019 · GitHub. [ONLINE] Available at: https://github.com/kevindooley/programming_DA_project_2019/blob/master/numpy_tutorial.ipynb. [Accessed 26 November 2020]."
   ]
  },
  {
   "cell_type": "markdown",
   "metadata": {},
   "source": [
    "## Problem Task 4 - K-means Clustering\n",
    "\n",
    "Use `scikit-learn`to apply k-means clustering to Fisher’s famous Iris data set. Explain how the code works and how accurate it might be, then explain how your model could be used to make predictions of species of iris.\n",
    "\n"
   ]
  },
  {
   "cell_type": "markdown",
   "metadata": {},
   "source": [
    "### Introduction & Research\n",
    "\n",
    "##### Background on Iris Dataset\n",
    "The Iris flower data set or Fisher's Iris data set is a multivariate data set introduced by the British statistician and biologist Ronald Fisher in his 1936 paper \"The use of multiple measurements in taxonomic problems as an example of linear discriminant analysis.\". The data set consists of 50 samples from each of three species of Iris (Iris setosa, Iris virginica and Iris versicolor). Four features were measured from each sample: the length and the width of the sepals and petals, in centimetres. The data set contains 150 observations of iris flowers."
   ]
  },
  {
   "cell_type": "markdown",
   "metadata": {},
   "source": [
    "##### Kmeans Clustering\n",
    "\n",
    "Clustering is a common exploratory data analysis technique used to get information about the structure of  data. It can be defined as the task of identifying subgroups in the data such that data points in the same subgroup (cluster) are very similar while data points in different clusters are very different. [1] A Cluster is a collection of data points aggregated together because of certain similarities. \n",
    "\n",
    "Clustering is known to be an unsupervised learning method that allows you to group a dataset based on similair characteristics, it can help you find useful structure among your data, group similar data together and discover underlying patterns. [2] Unsupervised learning basically means the algorithm looks for undetected patterns in an unlabelled data set with a minimum of human supervision.\n",
    "\n",
    "K-means is a common clustering algorithm of which its goal is to partition the data into such state that the total sum of squared distances between the points and their respective cluster centroid is minimised. [2]\n",
    "K-means is known as a centroid-based algorithm, or a distance-based algorithm, where we calculate the distances to assign a point to a cluster. A centroid is a location representing the center of a cluster. \n",
    "\n",
    "The K-means algorithm works iteratively to assign each data point to one of K groups based on the features that are provided. \n",
    "\n",
    "##### How it works?\n",
    "\n",
    "**Step 1.** \n",
    "The algorithm starts with determining the number of K clusters. K signifies the number of clusters that the algorithm will find in the dataset.It is very important to know the correct K. Unless K is already known (unlikely when using real world data), it will not always be clearly visible what K and can be quite difficult to determine what the correct value of K should be. One common way K can be estimated, is by using the elbow method and a parameter known as WCSS (Within Cluster Sum of Squares).Basically, select the value of K that causes the most significant decrease in the sum of squared distances, i.e the area where the elbow forms[3]\n",
    "***\n",
    "\n",
    "**Step 2.** \n",
    "Then the algorithm selects the number of centroids (starting points). These points can be within or outside the dataset but caution does have to be taken to avoid the initialisation trap. Once the initial centroids have initialised, each data point in the set is assigned to the closest cluster centroid. [4] \n",
    "As can be seen from image 1, 3 clusters were initialised and each datapoint has been accordingly assigned to its closest centroid. \n",
    "\n",
    "**Image 1.**\n",
    "<img src=\"images/cluster.PNG\" width=\"300\">\n",
    "Image Credit: [Healthcare.ai](https://healthcare.ai/step-step-k-means-clustering/)\n",
    "***\n",
    "\n",
    "**Step 3.** \n",
    "The next step is to recompute the centroids of newly formed clusters. All the points have been assigned based on which cluster center they were closest to. Next, the centroids are updated based on the points assigned to them. For instance, we can find the center mass of the blue cluster by summing over all the blue points and dividing by the total number of points, which is four here. And the resulted center mass C1’, represented by a blue diamond, is our new center for the blue cluster. Similarly, we can find the new centers C2’ and C3’ for the green and red clusters. [5]\n",
    "\n",
    "**Image 2.** \n",
    "<img src=\"images/cluster2.PNG\" width=\"300\">\n",
    "Image Credit: [Healthcare.ai](https://healthcare.ai/step-step-k-means-clustering/)\n",
    "***\n",
    "\n",
    "**Step 4.** \n",
    "The final step is to improve the clusters further with numeruous iterations of steps 2 and 3. Moving each centroid to the center of its cluster until the centroids stop moving, the K-means algorithm becomes converged. [6]\n",
    "\n",
    "***\n",
    "**Image 3. Summary depiction of K-means Process**\n",
    "<img src=\"images/kmeansum.PNG\" width=\"500\">\n",
    "Image Credit: [Kaggle](https://www.kaggle.com/shrutimechlearn/step-by-step-kmeans-explained-in-detail)"
   ]
  },
  {
   "cell_type": "code",
   "execution_count": 14,
   "metadata": {},
   "outputs": [],
   "source": [
    "# import the required packages\n",
    "\n",
    "import pandas as pd\n",
    "import seaborn as sns\n",
    "import matplotlib.pyplot as plt\n",
    "%matplotlib inline\n",
    "from sklearn.cluster import KMeans\n",
    "from sklearn import datasets\n"
   ]
  },
  {
   "cell_type": "markdown",
   "metadata": {},
   "source": [
    "##### Basic look at the dataset"
   ]
  },
  {
   "cell_type": "code",
   "execution_count": 15,
   "metadata": {},
   "outputs": [
    {
     "name": "stdout",
     "output_type": "stream",
     "text": [
      "     sepal_length  sepal_width  petal_length  petal_width         species\n",
      "0             5.1          3.5           1.4          0.2     Iris-setosa\n",
      "1             4.9          3.0           1.4          0.2     Iris-setosa\n",
      "2             4.7          3.2           1.3          0.2     Iris-setosa\n",
      "3             4.6          3.1           1.5          0.2     Iris-setosa\n",
      "4             5.0          3.6           1.4          0.2     Iris-setosa\n",
      "..            ...          ...           ...          ...             ...\n",
      "145           6.7          3.0           5.2          2.3  Iris-virginica\n",
      "146           6.3          2.5           5.0          1.9  Iris-virginica\n",
      "147           6.5          3.0           5.2          2.0  Iris-virginica\n",
      "148           6.2          3.4           5.4          2.3  Iris-virginica\n",
      "149           5.9          3.0           5.1          1.8  Iris-virginica\n",
      "\n",
      "[150 rows x 5 columns]\n"
     ]
    }
   ],
   "source": [
    "# imported iris dataset csv file\n",
    "# prints out the data set\n",
    "\n",
    "df = pd.read_csv(\"irisdataset.csv\")\n",
    "print(df)"
   ]
  },
  {
   "cell_type": "code",
   "execution_count": 16,
   "metadata": {},
   "outputs": [
    {
     "name": "stdout",
     "output_type": "stream",
     "text": [
      "[[5.1 3.5 1.4 0.2]\n",
      " [4.9 3.  1.4 0.2]\n",
      " [4.7 3.2 1.3 0.2]\n",
      " [4.6 3.1 1.5 0.2]\n",
      " [5.  3.6 1.4 0.2]\n",
      " [5.4 3.9 1.7 0.4]\n",
      " [4.6 3.4 1.4 0.3]\n",
      " [5.  3.4 1.5 0.2]\n",
      " [4.4 2.9 1.4 0.2]\n",
      " [4.9 3.1 1.5 0.1]\n",
      " [5.4 3.7 1.5 0.2]\n",
      " [4.8 3.4 1.6 0.2]\n",
      " [4.8 3.  1.4 0.1]\n",
      " [4.3 3.  1.1 0.1]\n",
      " [5.8 4.  1.2 0.2]\n",
      " [5.7 4.4 1.5 0.4]\n",
      " [5.4 3.9 1.3 0.4]\n",
      " [5.1 3.5 1.4 0.3]\n",
      " [5.7 3.8 1.7 0.3]\n",
      " [5.1 3.8 1.5 0.3]\n",
      " [5.4 3.4 1.7 0.2]\n",
      " [5.1 3.7 1.5 0.4]\n",
      " [4.6 3.6 1.  0.2]\n",
      " [5.1 3.3 1.7 0.5]\n",
      " [4.8 3.4 1.9 0.2]\n",
      " [5.  3.  1.6 0.2]\n",
      " [5.  3.4 1.6 0.4]\n",
      " [5.2 3.5 1.5 0.2]\n",
      " [5.2 3.4 1.4 0.2]\n",
      " [4.7 3.2 1.6 0.2]\n",
      " [4.8 3.1 1.6 0.2]\n",
      " [5.4 3.4 1.5 0.4]\n",
      " [5.2 4.1 1.5 0.1]\n",
      " [5.5 4.2 1.4 0.2]\n",
      " [4.9 3.1 1.5 0.1]\n",
      " [5.  3.2 1.2 0.2]\n",
      " [5.5 3.5 1.3 0.2]\n",
      " [4.9 3.1 1.5 0.1]\n",
      " [4.4 3.  1.3 0.2]\n",
      " [5.1 3.4 1.5 0.2]\n",
      " [5.  3.5 1.3 0.3]\n",
      " [4.5 2.3 1.3 0.3]\n",
      " [4.4 3.2 1.3 0.2]\n",
      " [5.  3.5 1.6 0.6]\n",
      " [5.1 3.8 1.9 0.4]\n",
      " [4.8 3.  1.4 0.3]\n",
      " [5.1 3.8 1.6 0.2]\n",
      " [4.6 3.2 1.4 0.2]\n",
      " [5.3 3.7 1.5 0.2]\n",
      " [5.  3.3 1.4 0.2]\n",
      " [7.  3.2 4.7 1.4]\n",
      " [6.4 3.2 4.5 1.5]\n",
      " [6.9 3.1 4.9 1.5]\n",
      " [5.5 2.3 4.  1.3]\n",
      " [6.5 2.8 4.6 1.5]\n",
      " [5.7 2.8 4.5 1.3]\n",
      " [6.3 3.3 4.7 1.6]\n",
      " [4.9 2.4 3.3 1. ]\n",
      " [6.6 2.9 4.6 1.3]\n",
      " [5.2 2.7 3.9 1.4]\n",
      " [5.  2.  3.5 1. ]\n",
      " [5.9 3.  4.2 1.5]\n",
      " [6.  2.2 4.  1. ]\n",
      " [6.1 2.9 4.7 1.4]\n",
      " [5.6 2.9 3.6 1.3]\n",
      " [6.7 3.1 4.4 1.4]\n",
      " [5.6 3.  4.5 1.5]\n",
      " [5.8 2.7 4.1 1. ]\n",
      " [6.2 2.2 4.5 1.5]\n",
      " [5.6 2.5 3.9 1.1]\n",
      " [5.9 3.2 4.8 1.8]\n",
      " [6.1 2.8 4.  1.3]\n",
      " [6.3 2.5 4.9 1.5]\n",
      " [6.1 2.8 4.7 1.2]\n",
      " [6.4 2.9 4.3 1.3]\n",
      " [6.6 3.  4.4 1.4]\n",
      " [6.8 2.8 4.8 1.4]\n",
      " [6.7 3.  5.  1.7]\n",
      " [6.  2.9 4.5 1.5]\n",
      " [5.7 2.6 3.5 1. ]\n",
      " [5.5 2.4 3.8 1.1]\n",
      " [5.5 2.4 3.7 1. ]\n",
      " [5.8 2.7 3.9 1.2]\n",
      " [6.  2.7 5.1 1.6]\n",
      " [5.4 3.  4.5 1.5]\n",
      " [6.  3.4 4.5 1.6]\n",
      " [6.7 3.1 4.7 1.5]\n",
      " [6.3 2.3 4.4 1.3]\n",
      " [5.6 3.  4.1 1.3]\n",
      " [5.5 2.5 4.  1.3]\n",
      " [5.5 2.6 4.4 1.2]\n",
      " [6.1 3.  4.6 1.4]\n",
      " [5.8 2.6 4.  1.2]\n",
      " [5.  2.3 3.3 1. ]\n",
      " [5.6 2.7 4.2 1.3]\n",
      " [5.7 3.  4.2 1.2]\n",
      " [5.7 2.9 4.2 1.3]\n",
      " [6.2 2.9 4.3 1.3]\n",
      " [5.1 2.5 3.  1.1]\n",
      " [5.7 2.8 4.1 1.3]\n",
      " [6.3 3.3 6.  2.5]\n",
      " [5.8 2.7 5.1 1.9]\n",
      " [7.1 3.  5.9 2.1]\n",
      " [6.3 2.9 5.6 1.8]\n",
      " [6.5 3.  5.8 2.2]\n",
      " [7.6 3.  6.6 2.1]\n",
      " [4.9 2.5 4.5 1.7]\n",
      " [7.3 2.9 6.3 1.8]\n",
      " [6.7 2.5 5.8 1.8]\n",
      " [7.2 3.6 6.1 2.5]\n",
      " [6.5 3.2 5.1 2. ]\n",
      " [6.4 2.7 5.3 1.9]\n",
      " [6.8 3.  5.5 2.1]\n",
      " [5.7 2.5 5.  2. ]\n",
      " [5.8 2.8 5.1 2.4]\n",
      " [6.4 3.2 5.3 2.3]\n",
      " [6.5 3.  5.5 1.8]\n",
      " [7.7 3.8 6.7 2.2]\n",
      " [7.7 2.6 6.9 2.3]\n",
      " [6.  2.2 5.  1.5]\n",
      " [6.9 3.2 5.7 2.3]\n",
      " [5.6 2.8 4.9 2. ]\n",
      " [7.7 2.8 6.7 2. ]\n",
      " [6.3 2.7 4.9 1.8]\n",
      " [6.7 3.3 5.7 2.1]\n",
      " [7.2 3.2 6.  1.8]\n",
      " [6.2 2.8 4.8 1.8]\n",
      " [6.1 3.  4.9 1.8]\n",
      " [6.4 2.8 5.6 2.1]\n",
      " [7.2 3.  5.8 1.6]\n",
      " [7.4 2.8 6.1 1.9]\n",
      " [7.9 3.8 6.4 2. ]\n",
      " [6.4 2.8 5.6 2.2]\n",
      " [6.3 2.8 5.1 1.5]\n",
      " [6.1 2.6 5.6 1.4]\n",
      " [7.7 3.  6.1 2.3]\n",
      " [6.3 3.4 5.6 2.4]\n",
      " [6.4 3.1 5.5 1.8]\n",
      " [6.  3.  4.8 1.8]\n",
      " [6.9 3.1 5.4 2.1]\n",
      " [6.7 3.1 5.6 2.4]\n",
      " [6.9 3.1 5.1 2.3]\n",
      " [5.8 2.7 5.1 1.9]\n",
      " [6.8 3.2 5.9 2.3]\n",
      " [6.7 3.3 5.7 2.5]\n",
      " [6.7 3.  5.2 2.3]\n",
      " [6.3 2.5 5.  1.9]\n",
      " [6.5 3.  5.2 2. ]\n",
      " [6.2 3.4 5.4 2.3]\n",
      " [5.9 3.  5.1 1.8]]\n"
     ]
    }
   ],
   "source": [
    "x = df.iloc[:, [0, 1, 2, 3]].values #get out the values from the 4 attributes\n",
    "print(x)"
   ]
  },
  {
   "cell_type": "code",
   "execution_count": 17,
   "metadata": {},
   "outputs": [
    {
     "name": "stdout",
     "output_type": "stream",
     "text": [
      "   sepal_length  sepal_width  petal_length  petal_width      species\n",
      "0           5.1          3.5           1.4          0.2  Iris-setosa\n",
      "1           4.9          3.0           1.4          0.2  Iris-setosa\n",
      "2           4.7          3.2           1.3          0.2  Iris-setosa\n",
      "3           4.6          3.1           1.5          0.2  Iris-setosa\n",
      "4           5.0          3.6           1.4          0.2  Iris-setosa\n"
     ]
    }
   ],
   "source": [
    "# prints out first out first 5 rows of dataset (default)\n",
    "# input any number to get that many rows displayed\n",
    "print(df.head())"
   ]
  },
  {
   "cell_type": "code",
   "execution_count": 18,
   "metadata": {},
   "outputs": [
    {
     "name": "stdout",
     "output_type": "stream",
     "text": [
      "species\n",
      "Iris-setosa        50\n",
      "Iris-versicolor    50\n",
      "Iris-virginica     50\n",
      "dtype: int64\n"
     ]
    }
   ],
   "source": [
    "#species distribution throughout dataset\n",
    "print(df.groupby('species').size())"
   ]
  },
  {
   "cell_type": "code",
   "execution_count": null,
   "metadata": {},
   "outputs": [],
   "source": [
    "#create a pair plot/scatterplot\n",
    "#markers - gives legend \n",
    "#hue - determines which column in the data frame should be used for colour encoding\n",
    "sns.pairplot(df, hue=\"species\", palette=\"husl\", markers=[\"o\", \"s\", \"D\"])\n",
    "\n",
    "#show plot\n",
    "plt.show()"
   ]
  },
  {
   "cell_type": "markdown",
   "metadata": {},
   "source": [
    "The above give a very basic overview of what is contained in the dataset. We can see there are of 3 species: iris Setosa, iris-versicolor and iris virginica. There are 50 of each species contained in the dataset and the dataset looks at petal length/width and sepal length/width of each species. The pairplot above also seems to indicate the iris setosa appears to have different characteristics to iris versicolor and iris virginica."
   ]
  },
  {
   "cell_type": "markdown",
   "metadata": {},
   "source": [
    "##### Elbow method to find number of clusters k"
   ]
  },
  {
   "cell_type": "code",
   "execution_count": null,
   "metadata": {},
   "outputs": [],
   "source": [
    "# Using the elbow method to find the optimal number of clusters\n",
    "# adapted from https://www.kaggle.com/shrutimechlearn/step-by-step-kmeans-explained-in-detail\n",
    "\n",
    "wcss = []\n",
    "\n",
    "#loop though range\n",
    "for i in range(1, 11):\n",
    "    kmeans = KMeans(n_clusters = i, init = 'k-means++', max_iter = 300, n_init = 10, random_state = 0)\n",
    "    kmeans.fit(x)\n",
    "    wcss.append(kmeans.inertia_)\n",
    "    \n",
    "plt.plot(range(1, 11), wcss, marker='x') # show clusters in range\n",
    "plt.title('The elbow method') # title\n",
    "plt.xlabel('Number of clusters') # xaxis label\n",
    "plt.ylabel('WCSS') #within cluster sum of squares\n",
    "plt.show() #print"
   ]
  },
  {
   "cell_type": "markdown",
   "metadata": {},
   "source": [
    "Because this is a well known dataset, we already knew 3 was the optimum number of clusters. But as the elbow diagram demonstrates above, optimum clusters are where the elbow occurs. This is when the within cluster sum of squares (WCSS) doesn't decrease significantly with every iteration. 3 clusters falls within that category. "
   ]
  },
  {
   "cell_type": "code",
   "execution_count": null,
   "metadata": {},
   "outputs": [],
   "source": [
    "kmean = datasets.load_iris() # load dataset from sklearn.datasets"
   ]
  },
  {
   "cell_type": "code",
   "execution_count": null,
   "metadata": {},
   "outputs": [],
   "source": [
    "#target and predictors\n",
    "x = kmean.data[:,]\n",
    "y = kmean.target"
   ]
  },
  {
   "cell_type": "code",
   "execution_count": null,
   "metadata": {},
   "outputs": [],
   "source": [
    "kmean.data #returns values. same as above except using built in capabilities"
   ]
  },
  {
   "cell_type": "code",
   "execution_count": null,
   "metadata": {},
   "outputs": [],
   "source": [
    "kmean.target # actual 3 clusters of species from the dataset\n",
    "# each number represents each species\n",
    "# the below is the true representation of the data"
   ]
  },
  {
   "cell_type": "code",
   "execution_count": null,
   "metadata": {},
   "outputs": [],
   "source": [
    "# Plot values for sepal length(column 0) and width(column 1).\n",
    "\n",
    "plt.scatter(x[:,0], x[:,1], c=y) \n",
    "plt.xlabel('Sepal Length') \n",
    "plt.ylabel('Sepal Width')"
   ]
  },
  {
   "cell_type": "code",
   "execution_count": null,
   "metadata": {},
   "outputs": [],
   "source": [
    "# Plot values for petal length(column 2) and width(column 3).\n",
    "plt.scatter(x[:,2], x[:,3],c=y)\n",
    "plt.xlabel('Petal Length')\n",
    "plt.ylabel('Petal Width')"
   ]
  },
  {
   "cell_type": "code",
   "execution_count": null,
   "metadata": {},
   "outputs": [],
   "source": [
    "# kmeans fitting/prediction\n",
    "# pre specify the clusters\n",
    "kmeans = KMeans(n_clusters = 3, random_state=0)\n",
    "KMmodel = kmeans.fit(x)\n",
    "KMmodel"
   ]
  },
  {
   "cell_type": "code",
   "execution_count": null,
   "metadata": {},
   "outputs": [],
   "source": [
    "# identify cluster centres\n",
    "# centre for each of the 4 attributes for each flower species\n",
    "cent = kmeans.cluster_centers_\n",
    "print(cent)"
   ]
  },
  {
   "cell_type": "code",
   "execution_count": null,
   "metadata": {},
   "outputs": [],
   "source": [
    "# prediction of the Kmean model\n",
    "#see labels of all datapoints\n",
    "# below is the predicted represenation of the data\n",
    "KMmodel.labels_"
   ]
  },
  {
   "cell_type": "code",
   "execution_count": null,
   "metadata": {},
   "outputs": [],
   "source": [
    "# adapted from https://jakevdp.github.io/PythonDataScienceHandbook/05.11-k-means.html\n",
    "#this will tell us to which cluster does the data observations belong.\n",
    "# Plot the identified clusters and compare with the answers\n",
    "fig, axes = plt.subplots(1, 2, figsize=(16,8))\n",
    "axes[0].scatter(x[:, 0], x[:, 1], c=y, cmap='viridis',edgecolor='k', marker='x')\n",
    "axes[1].scatter(x[:, 0], x[:, 1], c=KMmodel.labels_, cmap='viridis',edgecolor='k', marker='x')\n",
    "axes[0].set_xlabel('Sepal length')\n",
    "axes[0].set_ylabel('Sepal width')\n",
    "axes[1].set_xlabel('Sepal length')\n",
    "axes[1].set_ylabel('Sepal width')\n",
    "axes[0].set_title('Actual', fontsize=12)\n",
    "axes[1].set_title('Predicted', fontsize=12)"
   ]
  },
  {
   "cell_type": "code",
   "execution_count": null,
   "metadata": {},
   "outputs": [],
   "source": [
    "#associate each flower type with label\n",
    "# setosa - 0\n",
    "# versicolor - 1\n",
    "# virginica - 2\n",
    "df['Cluster_label'] = pd.Series(kmean.target, index=df.index)\n",
    "df"
   ]
  },
  {
   "cell_type": "code",
   "execution_count": null,
   "metadata": {},
   "outputs": [],
   "source": [
    "# compare the actual data vs the predicted model using a pandas crosstable\n",
    "pd.crosstab(kmean.target,KMmodel.labels_)"
   ]
  },
  {
   "cell_type": "markdown",
   "metadata": {},
   "source": [
    "K-means fitting can be relatively accurate for predicting the data. As can be seen in the above results. The model correctly categorised the 50 setosa species and only incorrectly categorised 2 of the versicolor species. The model was less accurate for the virginica species as it incorrectly categorised 14. We already knew the the setosa flower had different characteristics to the other two species through the pairplot above and therefore, it was easier for the k-means model to predict the categories correctly. For the versicolor and virginica species in which they share common sepal and petal characteristics, it was more difficult for algorithm to correctly predict. It seems the k-means algorithm is more suited to data that is more widely spread out. It is important to note that k-means is not a classification tool and while you can validate the accuracy of it, this is not the purpose of k-means. It's purpose is to find a grouping of data which maximizes between-clusters distances, it does not use your labeling to train. For maximization of accuracy, the implementation of an actual fit classifier such as kNN would demonstrate better results. "
   ]
  },
  {
   "cell_type": "markdown",
   "metadata": {},
   "source": [
    "#### References\n",
    "\n",
    "1. Imad Dabbura. K-means Clustering: Algorithm, Applications, Evaluation Methods, and Drawbacks | by Imad Dabbura | Towards Data Science. [ONLINE] Available at: https://towardsdatascience.com/k-means-clustering-algorithm-applications-evaluation-methods-and-drawbacks-aa03e644b48a.[Accessed 14 December 2020].\n",
    "2. Belen Sanchez. PREDICTING IRIS FLOWER SPECIES WITH K-MEANS CLUSTERING IN PYTHON | by Belen Sanchez | Medium. [ONLINE] Available at: https://medium.com/@belen.sanchez27/predicting-iris-flower-species-with-k-means-clustering-in-python-f6e46806aaee. \n",
    "3. Step by Step KMeans Explained in Detail | Kaggle. 2020. Step by Step KMeans Explained in Detail | Kaggle. [ONLINE] Available at: https://www.kaggle.com/shrutimechlearn/step-by-step-kmeans-explained-in-detail. [Accessed 17 December 2020].\n",
    "4. Analytics Vidhya. K Means Clustering | K Means Clustering Algorithm in Python. [ONLINE] Available at: https://www.analyticsvidhya.com/blog/2019/08/comprehensive-guide-k-means-clustering/. [Accessed 14 December 2020].\n",
    "5. healthcare.ai. Step by Step to K-Means Clustering - healthcare.ai. [ONLINE] Available at: https://healthcare.ai/step-step-k-means-clustering/. [Accessed 15 December 2020].\n",
    "6. F D. Clustering using K-means algorithm | by F D | Towards Data Science. [ONLINE] Available at: https://towardsdatascience.com/clustering-using-k-means-algorithm-81da00f156f6. [Accessed 16 December 2020].\n",
    "7. GitHub.pands-project/Learn.py at master · kevindooley/pands-project · GitHub. [ONLINE] Available at: https://github.com/kevindooley/pands-project/blob/master/Learn.py. [Accessed 16 December 2020].\n",
    "8. Stack Abuse. K-Means Clustering with Scikit-Learn. [ONLINE] Available at: https://stackabuse.com/k-means-clustering-with-scikit-learn/. [Accessed 27 December 2020].\n",
    "9. Stack Overflow. python - sklearn: calculating accuracy score of k-means on the test data set - Stack Overflow. [ONLINE] Available at: https://stackoverflow.com/questions/37842165/sklearn-calculating-accuracy-score-of-k-means-on-the-test-data-set. [Accessed 27 December 2020].\n",
    "10. https://www.youtube.com/watch?v=asW8tp1qiFQ\n",
    "11. Jake VanderPlas. In Depth: k-Means Clustering | Python Data Science Handbook. [ONLINE] Available at: https://jakevdp.github.io/PythonDataScienceHandbook/05.11-k-means.html. [Accessed 27 December 2020]."
   ]
  }
 ],
 "metadata": {
  "kernelspec": {
   "display_name": "Python 3",
   "language": "python",
   "name": "python3"
  },
  "language_info": {
   "codemirror_mode": {
    "name": "ipython",
    "version": 3
   },
   "file_extension": ".py",
   "mimetype": "text/x-python",
   "name": "python",
   "nbconvert_exporter": "python",
   "pygments_lexer": "ipython3",
   "version": "3.8.3"
  }
 },
 "nbformat": 4,
 "nbformat_minor": 4
}
