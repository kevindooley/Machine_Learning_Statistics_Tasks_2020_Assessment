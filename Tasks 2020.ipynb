{
 "cells": [
  {
   "cell_type": "markdown",
   "metadata": {},
   "source": [
    "<h1 align=\"center\">Machine Learning and Statistics Tasks 2020</h1>\n",
    "\n",
    "<h4 align=\"center\">By Kevin Dooley</h4>"
   ]
  },
  {
   "cell_type": "markdown",
   "metadata": {},
   "source": [
    "## Problem Task 1 - Square Root of 2\n",
    "\n",
    "This task is to write a Python function called $sqrt2$ that calculates and prints to the screen the square root of 2 to 100 decimal places. Contained in this jupyter notebook is research into the topic, a desciption of the algorithm and all relevant references. "
   ]
  },
  {
   "cell_type": "markdown",
   "metadata": {},
   "source": [
    "### Introduction & Research\n",
    "\n",
    "A number is defined as an irrational number when it cannot be given as the ration of two integers. One of the most famous irrational numbers is the $\\sqrt2$. It can be proven that the $\\sqrt2$ is irrational through a proof by contradiction and assuming that the $\\sqrt2$ is rational. [1]\n",
    "\n",
    "From my research there any many different methods which will compute the square root of a number. I decided to use Newtons method. Newton's Method is a very familiar method and suitable for programmatic calculation [2]\n",
    "\n",
    "Newton's method which is also known as Newton-Raphson method is a root-finding algorithm that produces successively better approximations of the roots of a real-valued function. [3] If you have a function $f(x)=0$ and $x_0$ is close to the root of a number, then newthon's method for a derivation formula should mean the $x_1$ would give a better approximation of that root.\n",
    "\n",
    "To find the square root using Newton's method, you guess a solution $x_0$ of the equation $f(x)=0$. As a result, you will find the linear approximation of $f(x)=0$ at $x_0$ and be able to find $x$ intercept of the linear approximation. [6]\n",
    "\n",
    "As mentioned above, assuming $x_0$ is close to the solution of $f(x)=0$ you will find the approximation of $f(x)=0$ by the tangent line at $x_0$ and determine the $x$ intercept of the tangent line. You then determine the next approximation of the formula $x_1=x_0-\\frac{f(x_0)}{f'(x_0)}$. This is an iterative process in which you keeping determining the next $x$ intercept. The iterative process using the formula $x_n+1=x_0-\\frac{f(x_0)}{f'(x_0)}$ will give you the approximate root. Depending on how many times the iterative process is completed will determine the accuracy of the approximate result. [7]"
   ]
  },
  {
   "cell_type": "markdown",
   "metadata": {},
   "source": [
    "### Python function of $\\sqrt2$"
   ]
  },
  {
   "cell_type": "code",
   "execution_count": 1,
   "metadata": {},
   "outputs": [
    {
     "name": "stdout",
     "output_type": "stream",
     "text": [
      "1.4142135623730951454746218587388284504413604736328125000000000000000000000000000000000000000000000000\n"
     ]
    }
   ],
   "source": [
    "#Example of sqrt(2) \n",
    "# https://stackoverflow.com/questions/20811208/newton-s-method-for-finding-square-roots-in-python [8]\n",
    "\n",
    "def sqrt(n): #create a function called sqrt()\n",
    "    approx = n / 2.0 # the approx/first guess is X0\n",
    "    while True: # while condition is true\n",
    "        better = (approx + n / approx) / 2.0 # to get the better/x1 point\n",
    "        if abs(approx - better) < 0.00001: # if the absolute value (gives positive value if negative)of  x0 - x1 is < 0.00001 then return x1 (better). This would then interate through for x1-x2 <0.00001 etc until no longer true\n",
    "            return better\n",
    "        approx = better\n",
    "n=2**(0.5) #  input is square root of 2\n",
    "result = format(n, ',.100f') # formats to 100 decimal places. Need to solve '0' issue\n",
    "print(result)"
   ]
  },
  {
   "cell_type": "markdown",
   "metadata": {},
   "source": [
    "The above code can be verified to be correct using built in python functions $math$ and $sqrt$"
   ]
  },
  {
   "cell_type": "code",
   "execution_count": 2,
   "metadata": {},
   "outputs": [
    {
     "data": {
      "text/plain": [
       "1.4142135623746899"
      ]
     },
     "execution_count": 2,
     "metadata": {},
     "output_type": "execute_result"
    }
   ],
   "source": [
    "import math\n",
    "\n",
    "sqrt(2)"
   ]
  },
  {
   "cell_type": "markdown",
   "metadata": {},
   "source": [
    "The verification step above demonstrates that the code in In[1] working as intended and finding the square root of 2. As can be seen from the output, the result does output 100 decimal places but the final 47 digits are showing as 0. This is because on most machines today, floats are approximated using a binary fraction with the numerator using the first 53 bits starting with the most significant bit and with the denominator as a power of two. [9] Normally, up to 53 digits precision would be fine, because that is more digits than most people find useful. It would be common where people may not even need more than 1 decimal point therefore Python keeps the number of digits manageable by displaying a rounded value. Python has limitations to completing this task because of the 53 digit precision. We have been asked to determine the square root of 2 to 100 decimal places. \n",
    "\n",
    "A way to address python's floating point precision issue, the input number needs to be increased and then determine an accurate approximate square root result for that number. It then must be divided down accordingly to show the correct answer. "
   ]
  },
  {
   "cell_type": "code",
   "execution_count": 3,
   "metadata": {},
   "outputs": [
    {
     "name": "stdout",
     "output_type": "stream",
     "text": [
      "1.4142135623730950488016887242096980785696718753769480731766797379907324784621070388503875343276415727\n"
     ]
    }
   ],
   "source": [
    "# https://stackoverflow.com/questions/64278117/is-there-a-way-to-create-more-decimal-points-on-python-without-importing-a-libra\n",
    "# need to understand this algorithm fully\n",
    "x = 2 * 10 ** 200\n",
    "\n",
    "r = x\n",
    "\n",
    "def test_diffs(x, r):\n",
    "    d0 = abs(x - r**2)\n",
    "    dm = abs(x - (r-1)**2)\n",
    "    dp = abs(x - (r+1)**2)\n",
    "    minimised = d0 <= dm and d0 <= dp\n",
    "    below_min = dp < dm\n",
    "    return minimised, below_min\n",
    "\n",
    "while True:\n",
    "    oldr = r\n",
    "    r = (r + x // r) // 2\n",
    "\n",
    "    minimised, below_min = test_diffs(x, r)\n",
    "    if minimised:\n",
    "        break\n",
    "\n",
    "    if r == oldr:\n",
    "        if below_min:\n",
    "            r += 1\n",
    "        else:\n",
    "            r -= 1\n",
    "        minimised, _ = test_diffs(x, r)\n",
    "        if minimised:\n",
    "            break\n",
    "\n",
    "print(f'{r // 10**100}.{r % 10**100:0100d}')\n"
   ]
  },
  {
   "cell_type": "markdown",
   "metadata": {},
   "source": [
    "### References\n",
    "\n",
    "1. McLoughlin, I., 2020. The Square Root of 2. The Square Root of 2, [Online]. 1, 1. Available at: https://learnonline.gmit.ie/course/view.php?id=1121 [Accessed 6 October 2020]\n",
    "2. Wikipedia. 2020. Methods of computing square roots. [ONLINE] Available at: https://en.wikipedia.org/wiki/Methods_of_computing_square_roots. [Accessed 17 November 2020].\n",
    "3. Medium. 2020. How to Calculate the Square Root of a Number? — Newton-Raphson Method. [ONLINE] Available at: https://surajregmi.medium.com/how-to-calculate-the-square-root-of-a-number-newton-raphson-method-f8007714f64. [Accessed 17 November 2020].\n",
    "4. Math.ubc.ca. 2020. LaTeX. [ONLINE] Available at: https://www.math.ubc.ca/~pwalls/math-python/jupyter/latex/. [Accessed 17 November 2020].\n",
    "5. Github.com. 2020. markdown-preview-plus. [ONLINE] Available at: https://github.com/atom-community/markdown-preview-plus/issues/19. [Accessed 17 November 2020].\n",
    "6. Math.ubc.ca. 2020. Newton's Method. [ONLINE] Available at: https://www.math.ubc.ca/~pwalls/math-python/roots-optimization/newton/. [Accessed 17 November 2020].\n",
    "7. Math24.net. 2020. Newton's Method. [ONLINE] Available at: https://www.math24.net/newtons-method/. [Accessed 17 November 2020].\n",
    "8. Stackoverflow.com. 2020. Newton’s method for finding square roots in python. [ONLINE] Available at: https://stackoverflow.com/questions/20811208/newton-s-method-for-finding-square-roots-in-python. [Accessed 17 November 2020].\n",
    "9. Python.org. 2020. Floating Point Arithmetic: Issues and Limitations. [ONLINE] Available at: https://docs.python.org/3.4/tutorial/floatingpoint.html#floating-point-arithmetic-issues-and-limitations. [Accessed 17 November 2020]."
   ]
  },
  {
   "cell_type": "markdown",
   "metadata": {},
   "source": [
    "## Problem Task 2 - Chi-squared Test\n",
    "\n",
    "This task is to analyse whether two categorical variables are independent using the Chi-squared  test  for  independence. Using the module package scipy.stats, verify that the Chi-squared value of 24.6 is correct and calculate the associated $p$ value for the example shown on the wikipedia page of the Chi-squared test.\n",
    "![Chi-squared](images/wiki.PNG)\n",
    "\n",
    "The question above stems from example on wikepedia, \"Suppose there is a city of 1,000,000 residents with four neighborhoods: A, B, C, and D. A random sample of 650 residents of the city is taken and their occupation is recorded as \"white collar\", \"blue collar\", or \"no collar\".\"\n",
    "\n",
    "The question asks whether two categorical variables are independent of each other. Making that the null hypothesis as it is the statement being asked in a test of statistical significance.\n",
    "\n",
    "$H_0$ - if each person's neighborhood of residence is **independent** of the person's occupational classification.\n",
    "\n",
    "$H_1$ - if each person's neighborhood of residence is **dependent** of the person's occupational classification."
   ]
  },
  {
   "cell_type": "markdown",
   "metadata": {},
   "source": [
    "### Introduction & Research\n",
    "\n",
    "A chi-squared test, also written as $\\chi^2$ test, is a statistical hypothesis test that is valid to perform when the test statistic is chi-squared distributed under the null hypothesis. A well know variant of the Chi-squared test is Pearson's chi-squared test which is used to determine if there is a statistically significant difference between the expected frequencies and the observed frequencies in one or more categories of a contingency table.[1] In other words, chi-square test for independence compares two variables in a contingency table to see if they are related and it tests to see whether distributions of categorical variables differ from each another.\n",
    "\n",
    "Categorical variables are non-numerical and a Chi-squared statistic is a way how a relationship between two categorical variables meaning it is appropiate for this task because the variables are neighbourhood and occupation (categorical).[2] \n",
    "\n",
    "There is no defining number that will indicate whether a chi-square test statistic is large enough to indicate a statistically significant difference or not. In general terms, you can compare your Chi-squared value to the critical value from a Chi-squared table or using the $p$ value. [2][3]\n",
    "\n",
    "If the Chi-squared value you calculated is higher than the critical value, you can assume the data does not fit the model (null hypothesis) and you reject the null hypothesis. If the Chi-squared value is less than the critical value, the data did fit the model and you fail to reject the null hypothesis. [2][3]\n",
    "\n",
    "It is also possible to determine if the difference is significant or not by using the $p$ value of which the Chi-squared test will give you. To determine the $p$ value you require the degrees of freedom (calculate from (row - 1)(column - 1) to determine from a contingency table)[4] and the $\\alpha$ value usually 0.05 (5%).[2][3] \n",
    "In this question,if the $p$ value is < 0.05, you reject the null hypothesis and the variables are determined to be dependent. \n",
    "If the $p$ value > 0.05, you fail to reject the null hypothesis and the variables are determined to be independent.[5]\n",
    "\n",
    "The below is the formula for calculating the chi-square. The python package scipy completes this formula for us effortlessly but basically what is does is:\n",
    "\n",
    "1. Every observed number in table, subtract the corresponding expected number [$O - E$]\n",
    "2. Square the difference [ $(O —E)^2$ ].\n",
    "3. Divide the squares obtained for each cell in the table by the expected number for that cell [ $\\frac{(O - E)^2}{E} $].\n",
    "4. Sum all the values for [ $\\frac{(O - E)^2}{E} $]. This is the chi square statistic. [7]\n",
    "\n",
    "![Chi-squared](images/chi.PNG)\n"
   ]
  },
  {
   "cell_type": "code",
   "execution_count": 4,
   "metadata": {},
   "outputs": [],
   "source": [
    "# chi-squared test\n",
    "# reference https://towardsdatascience.com/running-chi-square-tests-in-python-with-die-roll-data-b9903817c51b\n",
    "\n",
    "import numpy as np\n",
    "\n",
    "A_WC = [90,60,104,95]\n",
    "A_BC = [30,50,51,20]\n",
    "A_NC = [30,40,45,35]\n",
    "\n",
    "\n",
    "contingency_table = np.array([A_WC,A_BC,A_NC]) #create array with inputs stated on wikipedia\n",
    "#contingency_table - show table"
   ]
  },
  {
   "cell_type": "code",
   "execution_count": 5,
   "metadata": {},
   "outputs": [
    {
     "data": {
      "text/plain": [
       "(24.5712028585826,\n",
       " 0.0004098425861096696,\n",
       " 6,\n",
       " array([[ 80.53846154,  80.53846154, 107.38461538,  80.53846154],\n",
       "        [ 34.84615385,  34.84615385,  46.46153846,  34.84615385],\n",
       "        [ 34.61538462,  34.61538462,  46.15384615,  34.61538462]]))"
      ]
     },
     "execution_count": 5,
     "metadata": {},
     "output_type": "execute_result"
    }
   ],
   "source": [
    "# https://docs.scipy.org/doc/scipy/reference/generated/scipy.stats.chi2_contingency.html\n",
    "# import scipy \n",
    "from scipy import stats\n",
    "\n",
    "stats.chi2_contingency(contingency_table) # shows the Chi-squared result, p value and dof & expected result for each number/cell but difficult to read"
   ]
  },
  {
   "cell_type": "code",
   "execution_count": 6,
   "metadata": {},
   "outputs": [
    {
     "name": "stdout",
     "output_type": "stream",
     "text": [
      "===Chi2 Value===\n",
      "24.6\n",
      "\n",
      "\n",
      "===Degrees of Freedom===\n",
      "6\n",
      "\n",
      "\n",
      "===P-Value===\n",
      "0.0004098425861096696\n",
      "\n",
      "\n",
      "===Expected Values Contingency Table===\n",
      "[[ 80.53846154  80.53846154 107.38461538  80.53846154]\n",
      " [ 34.84615385  34.84615385  46.46153846  34.84615385]\n",
      " [ 34.61538462  34.61538462  46.15384615  34.61538462]]\n"
     ]
    }
   ],
   "source": [
    "# python allows this notation for variables\n",
    "# 4 variables\n",
    "# https://towardsdatascience.com/running-chi-square-tests-in-python-with-die-roll-data-b9903817c51b\n",
    "chi2_val, p_val, dof, table = stats.chi2_contingency(contingency_table)\n",
    "\n",
    "print(\"===Chi2 Value===\")\n",
    "format_chi2 = \"{:.1f}\".format(chi2_val) #format to 1 decimal point as per wikipedia\n",
    "print(format_chi2)\n",
    "print(\"\\n\") # blank line between \n",
    "print(\"===Degrees of Freedom===\")\n",
    "print(dof)\n",
    "print(\"\\n\")\n",
    "print(\"===P-Value===\")\n",
    "print(p_val)\n",
    "print(\"\\n\")\n",
    "print(\"===Expected Values Contingency Table===\")\n",
    "print(table)"
   ]
  },
  {
   "cell_type": "code",
   "execution_count": 7,
   "metadata": {},
   "outputs": [
    {
     "name": "stdout",
     "output_type": "stream",
     "text": [
      "Null hypothesis is rejected, variables are dependent\n"
     ]
    }
   ],
   "source": [
    "#check if dependent or independent using p value \n",
    "# if and else statements to compare p_val to 0.05\n",
    "if p_val < 0.05:\n",
    "    print(\"Null hypothesis is rejected, variables are dependent\")\n",
    "else:\n",
    "    if p_val> 0.05:\n",
    "        print(\"Failed to reject null hypothesis, variables are independent\")"
   ]
  },
  {
   "cell_type": "markdown",
   "metadata": {},
   "source": [
    "As mentioned above you can also determine if dependent/independent using the critical value. From my research, I found the critical value to be 12.59 at a degree of freedom of 6. This critical value is less than the Chi-squared value of 24.7 meaning we reject the null hypothesis that the variables are independent of each other. [3]\n"
   ]
  },
  {
   "cell_type": "markdown",
   "metadata": {},
   "source": [
    "### Conclusion\n",
    "\n",
    "The results of the above calculations show that $\\chi2$ = 24.6 which is the same as the result on Wikipedia. Albeit not asked in the question, the degree of freedom is 6 which also matches with Wikipedia\n",
    "The $p$ value was determined to be 0.0004098425861096696.\n",
    "\n",
    "Based on results above, it can be determined that the variables neighbourhood and occupation are in fact dependent of each other and not independent. This can be concluded because the null hypothesis was if each person's neighborhood of residence is independent of the person's occupational classification. Because the chi-square value was higher than the critical value and also the $p$ value was below $a$ = 0.05 we reject the null hypothesis and as a result conclude that $H_1$ is true and that there is a relationship between the two categorical variables neighbourhood and occupation."
   ]
  },
  {
   "cell_type": "markdown",
   "metadata": {},
   "source": [
    "### References\n",
    "\n",
    "1. Wikipedia. 2020. Chi-squared test - Wikipedia. [ONLINE] Available at: https://en.wikipedia.org/wiki/Chi-squared_test. [Accessed 18 November 2020].\n",
    "2. Statistics How To. 2020. Chi-Square Statistic: How to Calculate It / Distribution - Statistics How To. [ONLINE] Available at: https://www.statisticshowto.com/probability-and-statistics/chi-square/. [Accessed 18 November 2020].\n",
    "3. Chi-square (adv). 2020. Chi-square (adv). [ONLINE] Available at: https://mathbench.umd.edu/modules/statistical-tests_chisquare_advanced/page14.htm#:~:text=So%20for%20a%20test%20with,to%20reject%20the%20null%20hypothesis.. [Accessed 18 November 2020].\n",
    "4. Contingency Tables. 2020. Contingency Tables. [ONLINE] Available at: http://onlinestatbook.com/2/chi_square/contingency.html#:~:text=The%20degrees%20of%20freedom%20is,4%2D1)%20%3D%203.&text=Therefore%2C%20the%20sum%20of%20all,of%20subjects%20in%20the%20experiment.. [Accessed 18 November 2020].\n",
    "5. Chi-Square Test. 2020. Chi-Square Test. [ONLINE] Available at: https://www.mathsisfun.com/data/chi-square-test.html. [Accessed 18 November 2020].\n",
    "6. scipy.stats.chi2_contingency — SciPy v1.5.4 Reference Guide. 2020. scipy.stats.chi2_contingency — SciPy v1.5.4 Reference Guide. [ONLINE] Available at: https://docs.scipy.org/doc/scipy/reference/generated/scipy.stats.chi2_contingency.html. [Accessed 18 November 2020].\n",
    "7. Chi Square Statistics. 2020. Chi Square Statistics. [ONLINE] Available at: https://math.hws.edu/javamath/ryan/ChiSquare.html#:~:text=Calculate%20the%20chi%20square%20statistic,E)2%20%2F%20E%20%5D.. [Accessed 18 November 2020]."
   ]
  },
  {
   "cell_type": "markdown",
   "metadata": {},
   "source": [
    "## Problem Task 3 - Standard Deviation \n",
    "\n",
    "The standard deviation of an array of numbers x is calculated using numpy as `np.sqrt(np.sum((x - np.mean(x))**2)/len(x))`\n",
    "Microsoft Excel has two different versions of the standard deviation calculation, STDEV.P and STDEV.S. STDEV.P functions performs the above calculation but in the STDEV.P calculation, the division is by len(x)-1 rather than len(x).\n",
    "Reserach both excel functions explaning the difference between them. Then use numpy to perform a simulation demonstrating that the STDEV.S calculaion is a better estimate for the standard deviation of a population when performed on a sample. "
   ]
  },
  {
   "cell_type": "markdown",
   "metadata": {},
   "source": [
    "### Introduction & Research\n",
    "\n",
    "Standard deviation is a measure of the amount of variation or disersion of a set of values. A low standard deviation indicates that the values in the set tend to be close to the mean whereas a high standard deviation indicates that the values are further away fom the mean and spread out out over a wider range. The standard deviation is calculated as the square root of variance by determining each data point's deviation relative to the mean. [1]\n",
    "\n",
    "The standard deviation is denoted by the Greek symbol $\\sigma$ (sigma) for the population standard deviation and the Latin letter $s$ for the sample standard deviation. The standard deviation has a huge number of applications, it it used particulary in the financial sector where standard deviations of price data are frequently used as a measure of volatility and predict performance trends. [2].\n",
    "\n",
    "STDEV.P and STDEV.S are both excel functions for calculating the standard deviation of a set of values. STDEV.P calculates standard deviation based on the entire population given while STDEV.S estimates the standard deviation based on a sample, but STDEV.S assumes the given arguements are are a sample of a population[3][4]. STDEV.S can be used to partially correct sample bias. These two standard deviations - sample and population standard deviations - are calculated differently. \n",
    "\n",
    "As mentioned above, the standard deviation is a measure of how much variance there is in a set of numbers compared to the average (mean) of the numbers. STDEV.S uses `n − 1` instead of `n` in the formula for the sample variance and sample standard deviation where `n` is the number of observations in a sample. This is called Bessels correction and it corrects the bias in the estimation of the population variance and partially corrects the bias in the estimation of the population standard deviation. The reason the `n-1` only partially corrects bias for the estimation of the standard deviation is because the sample variance is an unbiased estimator of the population variance (remember standard deviation is the measure of variance)but its square root, the sample standard deviation, is a biased estimate of the population standard deviation; because the square root is a concave function. [7]\n",
    "\n",
    "Bessel's correction can provide a better estimation of the standard deviation when working with sample population. \n",
    "STDEV.P does not use Bessel's correction and STDEV.S does include it. Confusion can often arise as to which standard deviation function to use due to the names. STDEV.S (sample standard deviation) could be incorrectly interpreted as meaning the standard deviation of the smaller sample itself and not the estimate of the population standard deviation based on the sample. It is important to know the difference.[6]\n",
    "\n",
    "#### Formulas and Calculation\n",
    "\n",
    "**Population standard deviation:**\n",
    "\n",
    "$$\\sigma=\\sqrt\\frac{\\sum(x_i-\\mu)^2}{N}$$\n",
    "\n",
    "1. Calculate the mean ($\\mu$) of all data points (N) \n",
    "2. Subtract the mean from each datapoint. The differences are called deviations. \n",
    "3. Square the sum of $(x_i-\\mu)$\n",
    "4. Add all the squared deviations together\n",
    "5. Divide the sum of the squared deviations by the number of datapoints (N) to get the variance.\n",
    "6. Get the square root of the variance to get the population standard deviation ($\\sigma$)\n",
    "\n",
    "**Sample standard deviation:**\n",
    "\n",
    "$$\\bar{x}=\\sqrt\\frac{\\sum(x_i-\\bar{x})^2}{n-1}$$\n",
    "\n",
    "1. Calculate the mean ($\\bar{x}$) of all data points (n -1) \n",
    "2. Subtract the mean from each datapoint. The differences are called deviations. \n",
    "3. Square the sum of $(x_i-\\bar{x})$\n",
    "4. Add all the squared deviations together\n",
    "5. Divide the sum of the squared deviations by the number of datapoints (n-1) to get the variance.\n",
    "6. Get the square root of the variance to get the sample standard deviation ($\\sigma$)\n",
    "\n",
    "**Terminology**\n",
    "\n",
    "Population Standard Deviation (STDEV.P): a set of numbers that contains ALL members of a group (everybody in the population)\n",
    "\n",
    "Sample Standard Deviation (STDEV.S): a set that contains some members of a population [5]\n",
    "\n",
    "**When to use each one?**\n",
    "\n",
    "The population standard deviation would be used if: (1) you have the entire population (N) or (2) you have a sample of a larger population, but you are only interested in this sample and do not wish to generalize your findings to the population.\n",
    "You can use the sample standard deviation to estimate a population if you have a sample, but you wish to make a statement about the population standard deviation from which the sample is drawn. [6]\n",
    "\n",
    "**STDEV.P** - when you have data for the entire population or you have a sample of data but you only want the standard deviation for that sample. You do not need to extrapolate the data for the entire population. [8]\n",
    "\n",
    "**STDEV.S** - large sample and you want to approximate standard deviation for the entire population\n",
    "\n",
    "#### STDEV.P vs STDEV.S in Excel\n",
    "\n",
    "###### Image 1 - STDEV.P on Population\n",
    "<img src=\"images/stdevp-pop.PNG\" width=\"500\">\n",
    "\n",
    "###### Image 2 - STDEV.P on Sample\n",
    "<img src=\"images/stdevp-sample.PNG\" width=\"500\">\n",
    "\n",
    "###### Image 3 - STDEV.S on Sample\n",
    "<img src=\"images/stdevs-sample.PNG\" width=\"500\">\n",
    "\n",
    "It is clear from the above images that there is a difference in calculation between STDEV.P & STDEV.S. If you compare image 2 & image 3, both use the same data in their calculation but end up with a different result. As mentioned above, that is because STDEV.S utilises `n-1` and is an estimate of the population as a whole but STDEV.P is showing the exact standard deviation of the sample itself. It is not an estimate of the population. If you use STDEV.P on sample data to estimate a population, your result may be way off of the actual standard deviation depending on the data in the sample. \n",
    "\n",
    "STDEV.P - you calculate statistics for an entire population (mean, variance, etc.). The results are accurate because all data is available, it is not suitable for estimating. \n",
    "When you calculate statistics for a sample, results are estimates and therefore not as accurate. STDEV.S uses Bessel's correction which is an adjustment made to correct for bias that occurs when working with sample data. When working with a sample population, STDEV.S can provide a better estimation of the standard deviation. [8]\n"
   ]
  },
  {
   "cell_type": "code",
   "execution_count": 79,
   "metadata": {},
   "outputs": [
    {
     "name": "stdout",
     "output_type": "stream",
     "text": [
      "Population standard deviation using np.std: 6.681317235396026\n",
      "Population standard deviation using formula: 6.681317235396026\n",
      "\n",
      "\n",
      "Sample standard deviation using formula:     6.606057825965498\n"
     ]
    }
   ],
   "source": [
    "import matplotlib\n",
    "import numpy as np\n",
    "import matplotlib.pyplot as plt\n",
    "import seaborn as sns\n",
    "\n",
    "#manually generated data of no specific distibution\n",
    "# shows difference between calculations\n",
    "x = [1, 6, 7, 4, 8, 3, 19, 23, 5, 8, 16, 18, 20, 10, 11]\n",
    "\n",
    "# stdev.p on the population x using formula\n",
    "stdev_p = np.sqrt(np.sum(abs(x - np.mean(x))**2)/len(x))\n",
    "#built in std deviation function (default ddof =0) of a population x\n",
    "a = np.std(x)\n",
    "\n",
    "\n",
    "#stdev.s on the population x\n",
    "stdev_s = np.sqrt(np.sum(abs(x - np.mean(x))**2)/len(x)-1)\n",
    "\n",
    "\n",
    "print('Population standard deviation using np.std:', a)\n",
    "print('Population standard deviation using formula:',stdev_p)\n",
    "print('\\n')\n",
    "print('Sample standard deviation using formula:    ',stdev_s)"
   ]
  },
  {
   "cell_type": "code",
   "execution_count": 80,
   "metadata": {},
   "outputs": [],
   "source": [
    "#numpy has a standard built in function to determine the standard deviation. It by default will use the population standard deviation unless\n",
    "# modified. By using ddof = 1 you get an unbiased estimator of the variance of the population. As mentioned above, because the standard deviation is the square root of the estimated variance\n",
    "# the result will not be a true unbiased estimator eve with ddof =1\n"
   ]
  },
  {
   "cell_type": "code",
   "execution_count": 81,
   "metadata": {},
   "outputs": [],
   "source": [
    "#generate random data for simulation\n",
    "# adapted from https://numpy.org/doc/stable/reference/random/generated/numpy.random.normal.html#numpy.random.normal\n",
    "\n",
    "mean, std = 100, 2 # mean and standard deviation\n",
    "population = np.random.normal(mean, std, 1000) # generate population with normal distribution around mean at 100, std of 2. 1000 datapoints\n",
    "# print(population) to show the data in an array"
   ]
  },
  {
   "cell_type": "code",
   "execution_count": 82,
   "metadata": {},
   "outputs": [
    {
     "data": {
      "image/png": "[encoded data removed]",
      "text/plain": [
       "<Figure size 720x576 with 1 Axes>"
      ]
     },
     "metadata": {
      "needs_background": "light"
     },
     "output_type": "display_data"
    }
   ],
   "source": [
    "# Create plot with above data\n",
    "# https://seaborn.pydata.org/generated/seaborn.distplot.html\n",
    "\n",
    "# adjust the size of the plot\n",
    "plt.figure(figsize=(10,8))\n",
    "\n",
    "# create plot\n",
    "sns.distplot(population, color='y', bins=30)\n",
    "\n",
    "# set labels and title\n",
    "# show the plot\n",
    "plt.xlabel('Population', fontsize=15)\n",
    "plt.ylabel('Frequency', fontsize=15)\n",
    "plt.title('Population - Normal Distribution', fontsize = 15)\n",
    "plt.axvline(x=98, color='r', linestyle='--')\n",
    "plt.axvline(x=102, color='r', linestyle='--')\n",
    "plt.show()\n",
    "\n",
    "\n"
   ]
  },
  {
   "cell_type": "code",
   "execution_count": 96,
   "metadata": {},
   "outputs": [
    {
     "ename": "TypeError",
     "evalue": "'numpy.float64' object is not callable",
     "output_type": "error",
     "traceback": [
      "\u001b[1;31m---------------------------------------------------------------------------\u001b[0m",
      "\u001b[1;31mTypeError\u001b[0m                                 Traceback (most recent call last)",
      "\u001b[1;32m<ipython-input-96-120597ea3af8>\u001b[0m in \u001b[0;36m<module>\u001b[1;34m\u001b[0m\n\u001b[0;32m      4\u001b[0m \u001b[1;31m# population_std = stdev_p(population)\u001b[0m\u001b[1;33m\u001b[0m\u001b[1;33m\u001b[0m\u001b[1;33m\u001b[0m\u001b[0m\n\u001b[0;32m      5\u001b[0m \u001b[1;33m\u001b[0m\u001b[0m\n\u001b[1;32m----> 6\u001b[1;33m \u001b[0mpopulation_std\u001b[0m \u001b[1;33m=\u001b[0m \u001b[0mstdev_p\u001b[0m\u001b[1;33m(\u001b[0m\u001b[0mpopulation\u001b[0m\u001b[1;33m)\u001b[0m\u001b[1;33m\u001b[0m\u001b[1;33m\u001b[0m\u001b[0m\n\u001b[0m\u001b[0;32m      7\u001b[0m \u001b[1;31m#print(f'Population standard deviation (STDEV.P) = {population_std:.6f}')\u001b[0m\u001b[1;33m\u001b[0m\u001b[1;33m\u001b[0m\u001b[1;33m\u001b[0m\u001b[0m\n\u001b[0;32m      8\u001b[0m \u001b[0mprint\u001b[0m\u001b[1;33m(\u001b[0m\u001b[0mpopulation_std\u001b[0m\u001b[1;33m)\u001b[0m\u001b[1;33m\u001b[0m\u001b[1;33m\u001b[0m\u001b[0m\n",
      "\u001b[1;31mTypeError\u001b[0m: 'numpy.float64' object is not callable"
     ]
    }
   ],
   "source": [
    "# use STDEV.P go get actual standard deviation of full population\n",
    "\n",
    "# stdev_p = np.sqrt(np.sum((population - np.mean(population))**2)/len(population))\n",
    "# population_std = stdev_p(population)\n",
    "\n",
    "population_std = stdev_p(population)\n",
    "#print(f'Population standard deviation (STDEV.P) = {population_std:.6f}')\n",
    "print(population_std)"
   ]
  },
  {
   "cell_type": "code",
   "execution_count": null,
   "metadata": {},
   "outputs": [],
   "source": [
    "# use STDEV.S to estimeate standard deviation of the population\n",
    "\n",
    "# Create a sample data by using np.random.choice() function \n",
    "sample1 = 50\n",
    "sample2 = 100\n",
    "sample3 = 150\n",
    "sample4 = 250\n",
    "sample5 = 500\n",
    "\n",
    "# returns 50 random numbers from the population\n",
    "sample1_std= np.random.choice(population, sample1)\n",
    "np.random.shuffle(population)\n",
    "\n",
    "# calculate standard deviation by calling created previously function\n",
    "STDEV_S = stdev_s(sample_population)\n",
    "\n",
    "# print result\n",
    "\n",
    "print(\"Standard Deviation for sample data (STDEV.S): \",round(STDEV_S,8))"
   ]
  },
  {
   "cell_type": "markdown",
   "metadata": {},
   "source": [
    "### References \n",
    "\n",
    "1. Wikipedia. 2020. Standard deviation - Wikipedia. [ONLINE] Available at: https://en.wikipedia.org/wiki/Standard_deviation. [Accessed 26 November 2020].\n",
    "2. Investopedia. 2020. Standard Deviation Definition. [ONLINE] Available at: https://www.investopedia.com/terms/s/standarddeviation.asp. [Accessed 26 November 2020].\n",
    "3. STDEV.S function - Office Support. 2020. STDEV.S function - Office Support. [ONLINE] Available at: https://support.microsoft.com/en-us/office/stdev-s-function-7d69cf97-0c1f-4acf-be27-f3e83904cc23. [Accessed 26 November 2020].\n",
    "4. STDEV.P function - Office Support. 2020. STDEV.P function - Office Support. [ONLINE] Available at: https://support.microsoft.com/en-us/office/stdev-p-function-6e917c05-31a0-496f-ade7-4f4e7462f285. [Accessed 26 November 2020].\n",
    "5. https://towardsdatascience.com/why-sample-variance-is-divided-by-n-1-89821b83ef6d\n",
    "6. https://statistics.laerd.com/statistical-guides/measures-of-spread-standard-deviation.php\n",
    "7. https://en.wikipedia.org/wiki/Bessel%27s_correction#:~:text=Firstly%2C%20while%20the%20sample%20variance,is%20downward%2C%20by%20Jensen's%20inequality.\n",
    "8. https://exceljet.net/formula/standard-deviation-calculation\n",
    "9. https://www.khanacademy.org/math/statistics-probability/summarizing-quantitative-data/variance-standard-deviation-sample/a/population-and-sample-standard-deviation-review#:~:text=Standard%20deviation%20measures%20the%20spread%20of%20a%20data%20distribution.&text=If%20the%20data%20is%20being,n%2D1%20n%E2%88%921%20.\n",
    "10. https://numpy.org/doc/stable/reference/generated/numpy.std.html#:~:text=The%20standard%20deviation%20is%20the,N%20%3D%20len(x)%20.\n",
    "11. https://github.com/kevindooley/programming_DA_project_2019/blob/master/numpy_tutorial.ipynb"
   ]
  },
  {
   "cell_type": "markdown",
   "metadata": {},
   "source": [
    "## Problem Task 4 - K-means Clustering\n",
    "\n",
    "Use `scikit-learn`to apply k-means clustering to Fisher’s famous Iris data set. Explain how the code works and how accurate it might be, then explain how your model could be used to make predictions of species of iris.\n",
    "\n"
   ]
  },
  {
   "cell_type": "markdown",
   "metadata": {},
   "source": [
    "### Introduction & Research\n",
    "\n",
    "##### Background on Iris Dataset\n",
    "The Iris flower data set or Fisher's Iris data set is a multivariate data set introduced by the British statistician and biologist Ronald Fisher in his 1936 paper \"The use of multiple measurements in taxonomic problems as an example of linear discriminant analysis.\". The data set consists of 50 samples from each of three species of Iris (Iris setosa, Iris virginica and Iris versicolor). Four features were measured from each sample: the length and the width of the sepals and petals, in centimetres. The data set contains 150 observations of iris flowers."
   ]
  },
  {
   "cell_type": "markdown",
   "metadata": {},
   "source": [
    "##### Kmeans Clustering\n",
    "\n",
    "Clustering is a common exploratory data analysis technique used to get information about the structure of  data. It can be defined as the task of identifying subgroups in the data such that data points in the same subgroup (cluster) are very similar while data points in different clusters are very different. [1] A Cluster is a collection of data points aggregated together because of certain similarities. \n",
    "\n",
    "Clustering is known to be an unsupervised learning method that allows you to group a dataset based on similair characteristics, it can help you find useful structure among your data, group similar data together and discover underlying patterns. [2] Unsupervised learning basically means the algorithm looks for undetected patterns in an unlabelled data set with a minimum of human supervision.\n",
    "\n",
    "K-means is a common clustering algorithm of which its goal is to partition the data into such state that the total sum of squared distances between the points and their respective cluster centroid is minimised. [2]\n",
    "K-means is known as a centroid-based algorithm, or a distance-based algorithm, where we calculate the distances to assign a point to a cluster. A centroid is a location representing the center of a cluster. \n",
    "\n",
    "The K-means algorithm works iteratively to assign each data point to one of K groups based on the features that are provided. \n",
    "\n",
    "##### How it works?\n",
    "\n",
    "**Step 1.** \n",
    "The algorithm starts with determining the number of K clusters. K signifies the number of clusters that the algorithm will find in the dataset.It is very important to know the correct K. Unless K is already known (unlikely when using real world data), it will not always be clearly visible what K and can be quite difficult to determine what the correct value of K should be. One common way K can be estimated, is by using the elbow method and a parameter known as WCSS (Within Cluster Sum of Squares).Basically, select the value of K that causes the most significant decrease in the sum of squared distances, i.e the area where the elbow forms[3]\n",
    "***\n",
    "\n",
    "**Step 2.** \n",
    "Then the algorithm selects the number of centroids (starting points). These points can be within or outside the dataset but caution does have to be taken to avoid the initialisation trap. Once the initial centroids have initialised, each data point in the set is assigned to the closest cluster centroid. [4] \n",
    "As can be seen from image 1, 3 clusters were initialised and each datapoint has been accordingly assigned to its closest centroid. \n",
    "\n",
    "**Image 1.**\n",
    "<img src=\"images/cluster.PNG\" width=\"300\">\n",
    "Image Credit: [Healthcare.ai](https://healthcare.ai/step-step-k-means-clustering/)\n",
    "***\n",
    "\n",
    "**Step 3.** \n",
    "The next step is to recompute the centroids of newly formed clusters. All the points have been assigned based on which cluster center they were closest to. Next, the centroids are updated based on the points assigned to them. For instance, we can find the center mass of the blue cluster by summing over all the blue points and dividing by the total number of points, which is four here. And the resulted center mass C1’, represented by a blue diamond, is our new center for the blue cluster. Similarly, we can find the new centers C2’ and C3’ for the green and red clusters. [5]\n",
    "\n",
    "**Image 2.** \n",
    "<img src=\"images/cluster2.PNG\" width=\"300\">\n",
    "Image Credit: [Healthcare.ai](https://healthcare.ai/step-step-k-means-clustering/)\n",
    "***\n",
    "\n",
    "**Step 4.** \n",
    "The final step is to improve the clusters further with numeruous iterations of steps 2 and 3. Moving each centroid to the center of its cluster until the centroids stop moving, the K-means algorithm becomes converged. [6]\n",
    "\n",
    "***\n",
    "**Image 3. Summary depiction of K-means Process**\n",
    "<img src=\"images/kmeansum.PNG\" width=\"500\">\n",
    "Image Credit: [Kaggle](https://www.kaggle.com/shrutimechlearn/step-by-step-kmeans-explained-in-detail)"
   ]
  },
  {
   "cell_type": "code",
   "execution_count": null,
   "metadata": {},
   "outputs": [],
   "source": []
  },
  {
   "cell_type": "code",
   "execution_count": null,
   "metadata": {},
   "outputs": [],
   "source": []
  },
  {
   "cell_type": "code",
   "execution_count": null,
   "metadata": {},
   "outputs": [],
   "source": []
  },
  {
   "cell_type": "markdown",
   "metadata": {},
   "source": [
    "#### References\n",
    "\n",
    "1. https://towardsdatascience.com/k-means-clustering-algorithm-applications-evaluation-methods-and-drawbacks-aa03e644b48a\n",
    "2. https://medium.com/@belen.sanchez27/predicting-iris-flower-species-with-k-means-clustering-in-python-f6e46806aaee\n",
    "3. https://www.kaggle.com/shrutimechlearn/step-by-step-kmeans-explained-in-detail\n",
    "4. https://www.analyticsvidhya.com/blog/2019/08/comprehensive-guide-k-means-clustering/\n",
    "5. https://healthcare.ai/step-step-k-means-clustering/\n",
    "6. https://towardsdatascience.com/clustering-using-k-means-algorithm-81da00f156f6"
   ]
  }
 ],
 "metadata": {
  "kernelspec": {
   "display_name": "Python 3",
   "language": "python",
   "name": "python3"
  },
  "language_info": {
   "codemirror_mode": {
    "name": "ipython",
    "version": 3
   },
   "file_extension": ".py",
   "mimetype": "text/x-python",
   "name": "python",
   "nbconvert_exporter": "python",
   "pygments_lexer": "ipython3",
   "version": "3.8.3"
  }
 },
 "nbformat": 4,
 "nbformat_minor": 4
}
