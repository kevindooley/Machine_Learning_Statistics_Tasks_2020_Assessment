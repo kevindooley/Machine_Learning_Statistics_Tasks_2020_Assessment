{
 "cells": [
  {
   "cell_type": "markdown",
   "metadata": {},
   "source": [
    "<h1 align=\"center\">Machine Learning and Statistics Tasks 2020</h1>\n",
    "\n",
    "<h4 align=\"center\">By Kevin Dooley</h4>"
   ]
  },
  {
   "cell_type": "markdown",
   "metadata": {},
   "source": [
    "### Problem Task 1 - $\\sqrt2$\n",
    "\n",
    "This task is to Python function called $sqrt2$ that calculates and prints to the screen the square root of 2 to 100 decimal places. Contained in this jupyter notebook is research into the topic, a desciption of the algorithm and all relevant references. "
   ]
  },
  {
   "cell_type": "markdown",
   "metadata": {},
   "source": [
    "### Introduction & Research\n",
    "\n",
    "A number is defined as an irrational number when it cannot be given as the ration of two integers. One of the most famous irrational numbers is the $sqrt2$. It can be proven that the $\\sqrt2$ is irrational through a proof by contradiction and assuming that the $\\sqrt2$ is rational. [1]\n",
    "\n",
    "From my research there any many different methods which will compute the square root of a number. I decided to use Newtons method. Newton's Method is a very familiar method and suitable for programmatic calculation [2]\n",
    "\n",
    "Newton's method which is also known as Newton-Raphson method is a root-finding algorithm that produces successively better approximations of the roots of a real-valued function. [3] If you have a function $f(x)=0$ and $x_0$ is close to the root of a number, then newthon's method for a derivation formula should mean the $x_1$ would give a better approximation of that root.\n",
    "\n",
    "To find the square root using Newton's method, you guess a solution $x_0$ of the equation $f(x)=0$. As a result, you will find the linear approximation of $f(x)=0$ at $x_0$ and be able to find $x$ intercept of the linear approximation. [6]\n",
    "\n",
    "As mentioned above, assuming $x_0$ is close to the solution of $f(x)=0$ you will find the approximation of $f(x)=0$ by the tangent line at $x_0$ and determine the $x$ intercept of the tangent line. You then determine the next approximation of the formula $x_1=x_0-\\frac{f(x_0)}{f'(x_0)}$. This is an iterative process in which you keeping determining the next $x$ intercept. The iterative process using the formula $x_n+1=x_0-\\frac{f(x_0)}{f'(x_0)}$ will give you the approximate root. Depending on how many times the iterative process is completed will determine the accuracy of the approximate result. [7]"
   ]
  },
  {
   "cell_type": "code",
   "execution_count": 10,
   "metadata": {},
   "outputs": [
    {
     "name": "stdout",
     "output_type": "stream",
     "text": [
      "1.4142135623730951454746218587388284504413604736328125000000000000000000000000000000000000000000000000\n"
     ]
    }
   ],
   "source": [
    "#Example of sqrt(2) \n",
    "# https://stackoverflow.com/questions/20811208/newton-s-method-for-finding-square-roots-in-python [8]\n",
    "\n",
    "def sqrt(n): #create a function called sqrt()\n",
    "    approx = n / 2.0 # the approx/first guess is X0\n",
    "    while True: # while condition is true\n",
    "        better = (approx + n / approx) / 2.0 # to get the better/x1 point\n",
    "        if abs(approx - better) < 0.00001: # if the absolute value (gives positive value if negative)of  x0 - x1 is < 0.00001 then return x1 (better). This would then interate through for x1-x2 <0.00001 etc until no longer true\n",
    "            return better\n",
    "        approx = better\n",
    "n=2**(0.5) #  input is square root of 2\n",
    "result = format(n, ',.100f') # formats to 100 decimal places. Need to solve '0' issue\n",
    "print(result)"
   ]
  },
  {
   "cell_type": "code",
   "execution_count": 3,
   "metadata": {},
   "outputs": [
    {
     "name": "stdout",
     "output_type": "stream",
     "text": [
      "1.4142135623730950488016887242096980785696718753769480731766797379907324784621070388503875343276415727\n"
     ]
    }
   ],
   "source": [
    "# https://stackoverflow.com/questions/64278117/is-there-a-way-to-create-more-decimal-points-on-python-without-importing-a-libra\n",
    "# need to understand this algorithm fully\n",
    "x = 2 * 10 ** 200\n",
    "\n",
    "r = x\n",
    "\n",
    "def test_diffs(x, r):\n",
    "    d0 = abs(x - r**2)\n",
    "    dm = abs(x - (r-1)**2)\n",
    "    dp = abs(x - (r+1)**2)\n",
    "    minimised = d0 <= dm and d0 <= dp\n",
    "    below_min = dp < dm\n",
    "    return minimised, below_min\n",
    "\n",
    "while True:\n",
    "    oldr = r\n",
    "    r = (r + x // r) // 2\n",
    "\n",
    "    minimised, below_min = test_diffs(x, r)\n",
    "    if minimised:\n",
    "        break\n",
    "\n",
    "    if r == oldr:\n",
    "        if below_min:\n",
    "            r += 1\n",
    "        else:\n",
    "            r -= 1\n",
    "        minimised, _ = test_diffs(x, r)\n",
    "        if minimised:\n",
    "            break\n",
    "\n",
    "print(f'{r // 10**100}.{r % 10**100:0100d}')\n"
   ]
  },
  {
   "cell_type": "markdown",
   "metadata": {},
   "source": [
    "### References\n",
    "\n",
    "1. Lectures notes - square root of 2\n",
    "2. https://en.wikipedia.org/wiki/Methods_of_computing_square_roots\n",
    "3. https://surajregmi.medium.com/how-to-calculate-the-square-root-of-a-number-newton-raphson-method-f8007714f64\n",
    "4. https://www.math.ubc.ca/~pwalls/math-python/jupyter/latex/\n",
    "5. https://github.com/atom-community/markdown-preview-plus/issues/19\n",
    "6. https://www.math.ubc.ca/~pwalls/math-python/roots-optimization/newton/\n",
    "7. https://www.math24.net/newtons-method/\n",
    "8. https://stackoverflow.com/questions/20811208/newton-s-method-for-finding-square-roots-in-python"
   ]
  }
 ],
 "metadata": {
  "kernelspec": {
   "display_name": "Python 3",
   "language": "python",
   "name": "python3"
  },
  "language_info": {
   "codemirror_mode": {
    "name": "ipython",
    "version": 3
   },
   "file_extension": ".py",
   "mimetype": "text/x-python",
   "name": "python",
   "nbconvert_exporter": "python",
   "pygments_lexer": "ipython3",
   "version": "3.8.3"
  }
 },
 "nbformat": 4,
 "nbformat_minor": 4
}
